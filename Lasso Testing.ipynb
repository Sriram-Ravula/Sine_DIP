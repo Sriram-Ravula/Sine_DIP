{
 "cells": [
  {
   "cell_type": "code",
   "execution_count": 61,
   "metadata": {},
   "outputs": [
    {
     "name": "stdout",
     "output_type": "stream",
     "text": [
      "env: CUDA_VISIBLE_DEVICES=0\n"
     ]
    }
   ],
   "source": [
    "import matplotlib.pyplot as plt\n",
    "import numpy as np\n",
    "import random\n",
    "\n",
    "%env CUDA_VISIBLE_DEVICES=0\n",
    "import torch\n",
    "import torchvision as tv\n",
    "from torchvision import datasets, transforms\n",
    "\n",
    "from torch.autograd import Variable\n",
    "import torch.nn as nn\n",
    "import torch.nn.functional as F\n",
    "\n",
    "import numpy as np\n",
    "import matplotlib.pyplot as plt\n",
    "%matplotlib inline\n",
    "\n",
    "import math\n",
    "\n",
    "import time\n",
    "import wavio\n",
    "\n",
    "import scipy.optimize as spopt\n",
    "import scipy.fftpack as spfft\n",
    "import scipy.ndimage as spimg\n",
    "\n",
    "from sklearn.linear_model import Lasso"
   ]
  },
  {
   "cell_type": "code",
   "execution_count": 62,
   "metadata": {},
   "outputs": [
    {
     "name": "stdout",
     "output_type": "stream",
     "text": [
      "Sampling Rate:  8192\n",
      "Num Samples:  16384\n",
      "Clip Length:  2.0\n",
      "Bits/Sample:  16\n",
      "Num Channels:  1\n"
     ]
    }
   ],
   "source": [
    "wave = wavio.read(\"TestingR.wav\")\n",
    "WAVE_RATE = wave.rate\n",
    "WAVE_LEN = wave.data.shape[0]\n",
    "WAVE_RES = wave.sampwidth\n",
    "nc = wave.data.shape[1]\n",
    "y0 = wave.data\n",
    "\n",
    "print(\"Sampling Rate: \", WAVE_RATE)\n",
    "print(\"Num Samples: \", WAVE_LEN)\n",
    "print(\"Clip Length: \", round(WAVE_LEN/(1.0*WAVE_RATE), 2))\n",
    "print(\"Bits/Sample: \", 8*WAVE_RES)\n",
    "print(\"Num Channels: \", nc)"
   ]
  },
  {
   "cell_type": "code",
   "execution_count": 63,
   "metadata": {},
   "outputs": [],
   "source": [
    "compressed = True\n",
    "compressed_noisy = False\n",
    "\n",
    "if compressed:\n",
    "    num_measurements = 2000\n",
    "else:\n",
    "    num_measurements = WAVE_LEN"
   ]
  },
  {
   "cell_type": "code",
   "execution_count": 64,
   "metadata": {},
   "outputs": [
    {
     "name": "stdout",
     "output_type": "stream",
     "text": [
      "Means:  [-0.5]\n",
      "STD:  [32767.5]\n"
     ]
    }
   ],
   "source": [
    "#ugly solution for maintaining wave's original image stats for normalization/renormalization \n",
    "#normalization maps wave's range: [a,b] --> [-1,1], renormalization reverses this\n",
    "def get_stats(x):\n",
    "    chans = x.shape[1]\n",
    "    \n",
    "    a = np.zeros((chans))\n",
    "    b = np.zeros((chans))\n",
    "    mu = np.zeros((chans))\n",
    "    sigma = np.zeros((chans))\n",
    "    \n",
    "    for c in range(chans):\n",
    "        a[c] = np.min(x[:,c])\n",
    "        b[c] = np.max(x[:,c])\n",
    "        mu[c] = (a[c]+b[c])/2.0\n",
    "        sigma[c] = (b[c]-a[c])/2.0\n",
    "    \n",
    "    return [mu, sigma]\n",
    "\n",
    "MU = get_stats(y0)[0]\n",
    "SIGMA = get_stats(y0)[1]\n",
    "\n",
    "def normalise(x, mean, std):\n",
    "    normalised = np.zeros((x.shape))\n",
    "    chans = x.shape[1]\n",
    "    \n",
    "    for c in range(chans):\n",
    "        normalised[:,c] = (x[:,c] - mean[c])/std[c]\n",
    "        \n",
    "    return normalised\n",
    "\n",
    "def renormalise(x, mean, std):\n",
    "    normalised = np.zeros((x.shape))\n",
    "    chans = x.data.shape[1]\n",
    "    \n",
    "    for c in range(chans):\n",
    "        normalised[:,c] = x[:,c] * std[c] + mean[c]\n",
    "        \n",
    "    return normalised\n",
    "\n",
    "print(\"Means: \", MU)\n",
    "print(\"STD: \", SIGMA)"
   ]
  },
  {
   "cell_type": "code",
   "execution_count": 65,
   "metadata": {},
   "outputs": [
    {
     "name": "stdout",
     "output_type": "stream",
     "text": [
      "(2000, 16384)\n",
      "(2000, 1)\n"
     ]
    }
   ],
   "source": [
    "if compressed:\n",
    "    if not compressed_noisy:\n",
    "        kept_samples = random.sample(range(0, WAVE_LEN*nc), num_measurements) #randomly select num_measurements samples to keep\n",
    "        A = spfft.idct(np.identity(WAVE_LEN*nc), norm='ortho', axis=0)[kept_samples,:] #grab rows corresponding to index of randomly\n",
    "        measurements = y0[kept_samples,:]\n",
    "    else:\n",
    "        samp_matrix = (1 / math.sqrt(1.0 * num_measurements)) * np.random.randn(num_measurements, WAVE_LEN * nc)\n",
    "        A = np.matmul(samp_matrix, spfft.idct(np.identity(WAVE_LEN*nc), norm = 'ortho', axis=0))\n",
    "        measurements = np.matmul(samp_matrix, y0)\n",
    "else:\n",
    "    A = spfft.idct(np.identity(WAVE_LEN*nc), norm='ortho', axis=0)\n",
    "    measurements = y0\n",
    "    \n",
    "print(A.shape)\n",
    "print(measurements.shape)"
   ]
  },
  {
   "cell_type": "code",
   "execution_count": 66,
   "metadata": {},
   "outputs": [
    {
     "name": "stderr",
     "output_type": "stream",
     "text": [
      "/home/sravula/anaconda3/lib/python3.6/site-packages/sklearn/linear_model/coordinate_descent.py:491: ConvergenceWarning: Objective did not converge. You might want to increase the number of iterations. Fitting data with very small alpha may cause precision problems.\n",
      "  ConvergenceWarning)\n"
     ]
    }
   ],
   "source": [
    "lasso = Lasso(alpha = 0.001)\n",
    "lasso.fit(A, measurements)\n",
    "\n",
    "x_hat = np.array(lasso.coef_).reshape(WAVE_LEN*nc)\n",
    "x_hat = spfft.idct(x_hat, norm = 'ortho', axis=0)\n",
    "x_hat = x_hat.reshape(-1,1)"
   ]
  },
  {
   "cell_type": "code",
   "execution_count": 67,
   "metadata": {},
   "outputs": [
    {
     "name": "stdout",
     "output_type": "stream",
     "text": [
      "(16384, 1)\n",
      "(16384, 1)\n"
     ]
    }
   ],
   "source": [
    "print(y0.shape)\n",
    "print(x_hat.shape)"
   ]
  },
  {
   "cell_type": "code",
   "execution_count": 68,
   "metadata": {},
   "outputs": [
    {
     "name": "stdout",
     "output_type": "stream",
     "text": [
      "0.0027631417680399235\n"
     ]
    }
   ],
   "source": [
    "mse = np.mean((normalise(y0, MU, SIGMA).reshape((1, -1)) - normalise(x_hat, MU, SIGMA).reshape((1, -1)))**2)\n",
    "print(mse)"
   ]
  },
  {
   "cell_type": "code",
   "execution_count": 69,
   "metadata": {},
   "outputs": [],
   "source": [
    "#wavio.write(\"Audio_recon/Lasso_\" + str(num_measurements) + \"_testR.wav\", x_hat, WAVE_RATE, sampwidth=WAVE_RES)"
   ]
  },
  {
   "cell_type": "code",
   "execution_count": 70,
   "metadata": {},
   "outputs": [
    {
     "data": {
      "image/png": "[encoded data removed]",
      "text/plain": [
       "<Figure size 432x288 with 1 Axes>"
      ]
     },
     "metadata": {},
     "output_type": "display_data"
    },
    {
     "data": {
      "image/png": "[encoded data removed]",
      "text/plain": [
       "<Figure size 432x288 with 1 Axes>"
      ]
     },
     "metadata": {},
     "output_type": "display_data"
    }
   ],
   "source": [
    "spectrum =np.fft.fft(y0[:,0])\n",
    "spectrum = abs(spectrum[0:round(len(spectrum)/2)]) # Just first half of the spectrum, as the second is the negative copy\n",
    "\n",
    "plt.figure()\n",
    "plt.plot(spectrum, 'r')\n",
    "plt.xlabel('Frequency (hz)')\n",
    "plt.title('Original Waveform')\n",
    "plt.xlim(0,WAVE_RATE/2)\n",
    "plt.show()\n",
    "\n",
    "plt.figure()\n",
    "plt.plot(abs(np.fft.fft(x_hat[:,0])[0:round(len(spectrum)/2)]), 'b')\n",
    "plt.xlabel('Frequency (hz)')\n",
    "plt.title(\"Lasso - \" + str(num_measurements) + \" measurements\")\n",
    "plt.xlim(0, WAVE_RATE/2)\n",
    "plt.savefig(\"Freq_recon/Lasso_\" + str(num_measurements) + \"_testR.jpg\")\n",
    "plt.show()"
   ]
  }
 ],
 "metadata": {
  "kernelspec": {
   "display_name": "Python 3",
   "language": "python",
   "name": "python3"
  },
  "language_info": {
   "codemirror_mode": {
    "name": "ipython",
    "version": 3
   },
   "file_extension": ".py",
   "mimetype": "text/x-python",
   "name": "python",
   "nbconvert_exporter": "python",
   "pygments_lexer": "ipython3",
   "version": "3.6.5"
  }
 },
 "nbformat": 4,
 "nbformat_minor": 2
}
