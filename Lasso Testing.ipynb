{
 "cells": [
  {
   "cell_type": "code",
   "execution_count": 454,
   "metadata": {},
   "outputs": [
    {
     "name": "stdout",
     "output_type": "stream",
     "text": [
      "env: CUDA_VISIBLE_DEVICES=0\n"
     ]
    }
   ],
   "source": [
    "import matplotlib.pyplot as plt\n",
    "import numpy as np\n",
    "import random\n",
    "\n",
    "%env CUDA_VISIBLE_DEVICES=0\n",
    "import torch\n",
    "import torchvision as tv\n",
    "from torchvision import datasets, transforms\n",
    "\n",
    "from torch.autograd import Variable\n",
    "import torch.nn as nn\n",
    "import torch.nn.functional as F\n",
    "\n",
    "import numpy as np\n",
    "import matplotlib.pyplot as plt\n",
    "%matplotlib inline\n",
    "\n",
    "import math\n",
    "\n",
    "import time\n",
    "import wavio\n",
    "\n",
    "import scipy.optimize as spopt\n",
    "import scipy.fftpack as spfft\n",
    "import scipy.ndimage as spimg\n",
    "import scipy.signal as spsig\n",
    "\n",
    "from sklearn.linear_model import Lasso\n",
    "import copy"
   ]
  },
  {
   "cell_type": "code",
   "execution_count": 455,
   "metadata": {},
   "outputs": [
    {
     "name": "stdout",
     "output_type": "stream",
     "text": [
      "Sampling Rate:  8192\n",
      "Num Samples:  16384\n",
      "Clip Length:  2.0\n",
      "Bits/Sample:  16\n",
      "Num Channels:  1\n"
     ]
    }
   ],
   "source": [
    "wave = wavio.read(\"audio_data/offer_8192hz_2s.wav\")\n",
    "WAVE_RATE = wave.rate\n",
    "WAVE_LEN = wave.data.shape[0]\n",
    "WAVE_RES = wave.sampwidth\n",
    "nc = wave.data.shape[1]\n",
    "y0 = wave.data\n",
    "\n",
    "print(\"Sampling Rate: \", WAVE_RATE)\n",
    "print(\"Num Samples: \", WAVE_LEN)\n",
    "print(\"Clip Length: \", round(WAVE_LEN/(1.0*WAVE_RATE), 2))\n",
    "print(\"Bits/Sample: \", 8*WAVE_RES)\n",
    "print(\"Num Channels: \", nc)"
   ]
  },
  {
   "cell_type": "code",
   "execution_count": 456,
   "metadata": {},
   "outputs": [],
   "source": [
    "compressed = True\n",
    "compressed_noisy = False\n",
    "\n",
    "if compressed:\n",
    "    num_measurements = 1000\n",
    "else:\n",
    "    num_measurements = WAVE_LEN\n",
    "\n",
    "normalised = False\n",
    "scaled = not normalised\n",
    "\n",
    "scaled = False"
   ]
  },
  {
   "cell_type": "code",
   "execution_count": 457,
   "metadata": {},
   "outputs": [
    {
     "name": "stdout",
     "output_type": "stream",
     "text": [
      "Means:  [-1689.41662598]\n",
      "STD:  [4976.45596977]\n",
      "Mins:  [-32768.]\n",
      "Maxes:  [32767.]\n",
      "POWER:  [27619242.55517578]\n"
     ]
    }
   ],
   "source": [
    "#ugly solution for maintaining wave's original stats \n",
    "def get_stats(x):\n",
    "    chans = x.shape[1]\n",
    "    \n",
    "    maxes = np.zeros((chans))\n",
    "    mins = np.zeros((chans))\n",
    "    mu = np.zeros((chans))\n",
    "    sigma = np.zeros((chans))\n",
    "    power = np.zeros((chans), dtype = float)\n",
    "    \n",
    "    for c in range(chans):\n",
    "        mu[c] = np.mean(x[:,c])\n",
    "        sigma[c] = np.std(x[:,c])\n",
    "        maxes[c] = np.max(x[:,c])\n",
    "        mins[c] = np.min(x[:,c])\n",
    "        power[c] = np.mean(np.array(x[:,c], dtype = float)**2)\n",
    "    \n",
    "    return [mu, sigma, mins, maxes, power]\n",
    "\n",
    "MU, SIGMA, MINS, MAXES, POWER = get_stats(y0)\n",
    "\n",
    "#Transforms distribution of signal amplitudes to be Gaussian(0,1)\n",
    "def normalise(x, mean, std):\n",
    "    normalised = np.zeros((x.shape))\n",
    "    chans = x.shape[1]\n",
    "    \n",
    "    for c in range(chans):\n",
    "        normalised[:,c] = (x[:,c] - mean[c])/std[c]\n",
    "        \n",
    "    return normalised\n",
    "\n",
    "#Transforms distribution of signal amplitudes from Gaussian(0,1) back to original \n",
    "def renormalise(x, mean, std):\n",
    "    renormalised = np.zeros((x.shape))\n",
    "    chans = x.shape[1]\n",
    "    \n",
    "    for c in range(chans):\n",
    "        renormalised[:,c] = (x[:,c] * std[c]) + mean[c]\n",
    "        \n",
    "    return renormalised\n",
    "\n",
    "#linearly scales a signal's range: [a, b] --> [-1, 1]\n",
    "def scale(x, mins, maxes):\n",
    "    chans = x.shape[1]\n",
    "    scaled = np.zeros((x.shape))\n",
    "    \n",
    "    for c in range(chans):\n",
    "        translate = (mins[c] + maxes[c])/2.0\n",
    "        scale = (maxes[c] - mins[c])/2.0\n",
    "        \n",
    "        scaled[:,c] = (x[:,c] - translate)/scale \n",
    "    \n",
    "    return scaled\n",
    "        \n",
    "#linearly scales a signal's range: [-1, 1] --> [a, b]\n",
    "def rescale(x, mins, maxes):\n",
    "    chans = x.shape[1]\n",
    "    rescaled = np.zeros((x.shape))\n",
    "    \n",
    "    for c in range(chans):\n",
    "        translate = (mins[c] + maxes[c])/2.0\n",
    "        scale = (maxes[c] - mins[c])/2.0\n",
    "        \n",
    "        rescaled[:,c] = (x[:,c] * scale) + translate\n",
    "    \n",
    "    return rescaled\n",
    "\n",
    "print(\"Means: \", MU)\n",
    "print(\"STD: \", SIGMA)\n",
    "print(\"Mins: \", MINS)\n",
    "print(\"Maxes: \", MAXES)\n",
    "print(\"POWER: \", POWER)\n",
    "\n",
    "if normalised:\n",
    "    y = normalise(y0, MU, SIGMA)\n",
    "elif scaled:\n",
    "    y = scale(y0, MINS, MAXES)"
   ]
  },
  {
   "cell_type": "code",
   "execution_count": 458,
   "metadata": {},
   "outputs": [
    {
     "name": "stdout",
     "output_type": "stream",
     "text": [
      "(1000, 16384)\n",
      "(1000, 1)\n"
     ]
    }
   ],
   "source": [
    "if compressed:\n",
    "    if not compressed_noisy:\n",
    "        kept_samples = random.sample(range(0, WAVE_LEN*nc), num_measurements) #randomly select num_measurements samples to keep\n",
    "        A = spfft.idct(np.identity(WAVE_LEN*nc), norm='ortho', axis=0)[kept_samples,:] #grab rows corresponding to index of randomly\n",
    "        if normalised or scaled:\n",
    "            measurements = y[kept_samples,:]\n",
    "        else:\n",
    "            measurements = y0[kept_samples,:]\n",
    "    else:\n",
    "        samp_matrix = (1 / math.sqrt(1.0 * num_measurements)) * np.random.randn(num_measurements, WAVE_LEN * nc)\n",
    "        A = np.matmul(samp_matrix, spfft.idct(np.identity(WAVE_LEN*nc), norm = 'ortho', axis=0))\n",
    "        if normalised or scaled:\n",
    "            measurements = np.matmul(samp_matrix, y)\n",
    "        else:\n",
    "            measurements = np.matmul(samp_matrix, y0)\n",
    "else:\n",
    "    A = spfft.idct(np.identity(WAVE_LEN*nc), norm='ortho', axis=0)\n",
    "    if normalised or scaled:\n",
    "        measurements = y\n",
    "    else:\n",
    "        measurements = y0\n",
    "    \n",
    "print(A.shape)\n",
    "print(measurements.shape)"
   ]
  },
  {
   "cell_type": "code",
   "execution_count": 459,
   "metadata": {},
   "outputs": [
    {
     "name": "stderr",
     "output_type": "stream",
     "text": [
      "/home/sravula/anaconda3/lib/python3.6/site-packages/sklearn/linear_model/coordinate_descent.py:491: ConvergenceWarning: Objective did not converge. You might want to increase the number of iterations. Fitting data with very small alpha may cause precision problems.\n",
      "  ConvergenceWarning)\n"
     ]
    }
   ],
   "source": [
    "lasso = Lasso(alpha = 0.001)\n",
    "lasso.fit(A, measurements)\n",
    "\n",
    "x_hat = np.array(lasso.coef_).reshape(WAVE_LEN*nc)\n",
    "x_hat = spfft.idct(x_hat, norm = 'ortho', axis=0)\n",
    "x_hat = x_hat.reshape(-1,nc)\n",
    "\n",
    "if normalised:\n",
    "    x_hat = renormalise(x_hat, MU, SIGMA)\n",
    "elif scaled:\n",
    "    x_hat = rescale(x_hat, MINS, MAXES)"
   ]
  },
  {
   "cell_type": "code",
   "execution_count": 460,
   "metadata": {},
   "outputs": [
    {
     "name": "stdout",
     "output_type": "stream",
     "text": [
      "(16384, 1)\n",
      "(16384, 1)\n"
     ]
    }
   ],
   "source": [
    "print(y0.shape)\n",
    "print(x_hat.shape)"
   ]
  },
  {
   "cell_type": "code",
   "execution_count": 461,
   "metadata": {},
   "outputs": [
    {
     "name": "stdout",
     "output_type": "stream",
     "text": [
      "1.0063941500393823\n"
     ]
    }
   ],
   "source": [
    "mse = np.mean((np.squeeze(x_hat) - np.squeeze(y0))**2)/POWER[0]\n",
    "print(mse)"
   ]
  },
  {
   "cell_type": "code",
   "execution_count": 462,
   "metadata": {},
   "outputs": [],
   "source": [
    "wavio.write(\"Lasso_best.wav\", x_hat, WAVE_RATE, sampwidth=WAVE_RES)"
   ]
  },
  {
   "cell_type": "code",
   "execution_count": 463,
   "metadata": {},
   "outputs": [
    {
     "data": {
      "image/png": "[encoded data removed]",
      "text/plain": [
       "<Figure size 432x288 with 1 Axes>"
      ]
     },
     "metadata": {},
     "output_type": "display_data"
    },
    {
     "data": {
      "image/png": "[encoded data removed]",
      "text/plain": [
       "<Figure size 432x288 with 1 Axes>"
      ]
     },
     "metadata": {},
     "output_type": "display_data"
    }
   ],
   "source": [
    "spectrum =np.fft.fft(y0[:,0], norm = 'ortho')\n",
    "spectrum = abs(spectrum[0:round(len(spectrum)/2)]) # Just first half of the spectrum, as the second is the negative copy\n",
    "\n",
    "plt.figure()\n",
    "plt.plot(spectrum, 'r')\n",
    "plt.xlabel('Frequency (hz)')\n",
    "plt.title('Original Waveform DFT')\n",
    "plt.xlim(0,WAVE_RATE/2)\n",
    "#plt.ylim(0,np.max(spectrum))\n",
    "plt.show()\n",
    "\n",
    "if normalised:\n",
    "    result = np.fft.fft(normalise(x_hat, MU, SIGMA)[:,0], norm='ortho')\n",
    "elif scaled:\n",
    "    result = np.fft.fft(scale(x_hat, MINS, MAXES)[:,0], norm='ortho')\n",
    "else:\n",
    "    result = np.fft.fft(x_hat[:,0], norm='ortho')\n",
    "result = abs(result[0:round(len(result)/2)])\n",
    "\n",
    "plt.figure()\n",
    "plt.plot(result, 'b')\n",
    "plt.xlabel('Frequency (hz)')\n",
    "plt.title(\"Lasso - \" + str(num_measurements) + \" measurements\")\n",
    "plt.xlim(0, WAVE_RATE/2)\n",
    "#plt.ylim(0,np.max(result))\n",
    "#plt.savefig(\"Freq_recon/Lasso_\" + str(num_measurements) + \"_testR.jpg\")\n",
    "plt.show()"
   ]
  }
 ],
 "metadata": {
  "kernelspec": {
   "display_name": "Python 3",
   "language": "python",
   "name": "python3"
  },
  "language_info": {
   "codemirror_mode": {
    "name": "ipython",
    "version": 3
   },
   "file_extension": ".py",
   "mimetype": "text/x-python",
   "name": "python",
   "nbconvert_exporter": "python",
   "pygments_lexer": "ipython3",
   "version": "3.6.5"
  }
 },
 "nbformat": 4,
 "nbformat_minor": 2
}
