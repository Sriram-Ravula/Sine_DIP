{
 "cells": [
  {
   "cell_type": "markdown",
   "metadata": {},
   "source": [
    "### Imports..."
   ]
  },
  {
   "cell_type": "code",
   "execution_count": 136,
   "metadata": {},
   "outputs": [
    {
     "name": "stdout",
     "output_type": "stream",
     "text": [
      "env: CUDA_VISIBLE_DEVICES=0\n"
     ]
    }
   ],
   "source": [
    "import matplotlib.pyplot as plt\n",
    "import numpy as np\n",
    "import random\n",
    "\n",
    "%env CUDA_VISIBLE_DEVICES=0\n",
    "import torch\n",
    "import torchvision as tv\n",
    "from torchvision import datasets, transforms\n",
    "\n",
    "from torch.autograd import Variable\n",
    "import torch.nn as nn\n",
    "import torch.nn.functional as F\n",
    "\n",
    "import numpy as np\n",
    "import matplotlib.pyplot as plt\n",
    "%matplotlib inline\n",
    "\n",
    "#import torch_dip_utils as utils\n",
    "import utils\n",
    "import math\n",
    "\n",
    "import time"
   ]
  },
  {
   "cell_type": "markdown",
   "metadata": {},
   "source": [
    "### Set up Hyperparameters, network filter and I/O sizes, and waveform parameters"
   ]
  },
  {
   "cell_type": "code",
   "execution_count": 137,
   "metadata": {},
   "outputs": [],
   "source": [
    "#set up hyperparameters, net input/output sizes, and whether the problem is compressed sensing\n",
    "\n",
    "LR = 1e-3 # learning rate\n",
    "MOM = 0.9 # momentum\n",
    "NUM_ITER = 150 # number iterations\n",
    "WD = 1e-4 # weight decay for l2-regularization\n",
    "\n",
    "Z_NUM = 32 # input seed\n",
    "NGF = 64 # number of filters per layer\n",
    "ALEX_BATCH_SIZE = 1 # batch size of gradient step\n",
    "nc = 1 #num channels in the net I/0\n",
    "\n",
    "#choose the number of samples and periods in the training waveform\n",
    "WAVE_SIZE = 1024\n",
    "WAVE_PERIODS = 2\n",
    "NUM_HARMONICS = 3"
   ]
  },
  {
   "cell_type": "markdown",
   "metadata": {},
   "source": [
    "### Choose whether the problem is compressed sensing or DIP"
   ]
  },
  {
   "cell_type": "code",
   "execution_count": 138,
   "metadata": {},
   "outputs": [],
   "source": [
    "compressed = True\n",
    "compressed_noisy = False\n",
    "\n",
    "if compressed:\n",
    "    num_measurements = 256\n",
    "else:\n",
    "    num_measurements = WAVE_SIZE"
   ]
  },
  {
   "cell_type": "markdown",
   "metadata": {},
   "source": [
    "### Use CUDA if Possible"
   ]
  },
  {
   "cell_type": "code",
   "execution_count": 139,
   "metadata": {},
   "outputs": [
    {
     "name": "stdout",
     "output_type": "stream",
     "text": [
      "True\n",
      "<torch.cuda.device object at 0x7f044ea2ed30>\n"
     ]
    }
   ],
   "source": [
    "CUDA = torch.cuda.is_available()\n",
    "print(CUDA)\n",
    "\n",
    "#save the correct datatype depending on CPU or GPU execution\n",
    "if CUDA : \n",
    "    dtype = torch.cuda.FloatTensor  \n",
    "    print(torch.cuda.device(0))\n",
    "else:\n",
    "    dtype = torch.FloatTensor\n",
    "    print(\"NO DEVICES\")"
   ]
  },
  {
   "cell_type": "markdown",
   "metadata": {},
   "source": [
    "### Create and plot the training and reference waveforms"
   ]
  },
  {
   "cell_type": "code",
   "execution_count": 140,
   "metadata": {},
   "outputs": [
    {
     "data": {
      "image/png": "[encoded data removed]",
      "text/plain": [
       "<Figure size 432x288 with 1 Axes>"
      ]
     },
     "metadata": {},
     "output_type": "display_data"
    }
   ],
   "source": [
    "#Produces a sinusoid with optional additive gaussian noise distributed (mean, std)\n",
    "def get_sinusoid(num_samples, num_periods, num_harmonics = 1, noisy = True, std = 0.1, mean = 0):\n",
    "    Fs = num_samples\n",
    "    x = np.arange(num_samples)\n",
    "\n",
    "    y = np.zeros((num_samples))\n",
    "\n",
    "    for i in range(num_harmonics):\n",
    "        y += np.sin(2 * np.pi * (2**i) * num_periods * x / Fs)\n",
    "\n",
    "    if noisy:\n",
    "        y += (std * np.random.randn(num_samples)) + mean\n",
    "\n",
    "    return y\n",
    "\n",
    "#create noisy (training) and de-noised (reference) waveforms\n",
    "y0 = get_sinusoid(num_samples = WAVE_SIZE, num_periods = WAVE_PERIODS, num_harmonics = NUM_HARMONICS, noisy=(not compressed))\n",
    "y0_denoised = get_sinusoid(num_samples = WAVE_SIZE, num_periods = WAVE_PERIODS, num_harmonics = NUM_HARMONICS, noisy=False)\n",
    "                \n",
    "#Plot both noisy (blue) and denoised (red) waveforms\n",
    "plt.plot(np.arange(1024), y0)\n",
    "#plt.plot(np.arange(1024), y0_denoised, color='r')\n",
    "plt.xlabel(\"Sample\")\n",
    "plt.ylabel(\"Value\")\n",
    "plt.show()"
   ]
  },
  {
   "cell_type": "markdown",
   "metadata": {},
   "source": [
    "### Util function for normalizing noisy wave range to [-1,1] and renormalizing back to native range"
   ]
  },
  {
   "cell_type": "code",
   "execution_count": 141,
   "metadata": {},
   "outputs": [
    {
     "name": "stdout",
     "output_type": "stream",
     "text": [
      "0.0 2.232548066578411\n"
     ]
    }
   ],
   "source": [
    "#ugly solution for maintaining wave's original image stats for normalization/renormalization \n",
    "#normalization maps wave's range: [a,b] --> [-1,1], renormalization reverses this\n",
    "def get_stats(x):\n",
    "    a = np.min(x)\n",
    "    b = np.max(x)\n",
    "    mu = (a+b)/2.0\n",
    "    sigma = (b-a)/2.0\n",
    "    return [mu, sigma]\n",
    "\n",
    "MU = get_stats(y0)[0]\n",
    "SIGMA = get_stats(y0)[1]\n",
    "\n",
    "def normalise(x):\n",
    "    return (x-MU)/SIGMA\n",
    "\n",
    "def renormalise(x):\n",
    "    return x*SIGMA + MU\n",
    "\n",
    "print(MU, SIGMA)"
   ]
  },
  {
   "cell_type": "markdown",
   "metadata": {},
   "source": [
    "### Prepare waveform for net training"
   ]
  },
  {
   "cell_type": "code",
   "execution_count": 142,
   "metadata": {},
   "outputs": [
    {
     "name": "stdout",
     "output_type": "stream",
     "text": [
      "torch.Size([1024])\n"
     ]
    }
   ],
   "source": [
    "#convert array to tensor and normalise to [-1,1] for net's activation functions\n",
    "\n",
    "y = torch.Tensor(y0)\n",
    "y = normalise(y)\n",
    "y = Variable(y.type(dtype))\n",
    "print(y.shape)"
   ]
  },
  {
   "cell_type": "code",
   "execution_count": 143,
   "metadata": {},
   "outputs": [],
   "source": [
    "#get the proper MSE loss based on the datatype\n",
    "mse = torch.nn.MSELoss().type(dtype)"
   ]
  },
  {
   "cell_type": "markdown",
   "metadata": {},
   "source": [
    "### Define the network architecture"
   ]
  },
  {
   "cell_type": "code",
   "execution_count": 144,
   "metadata": {},
   "outputs": [],
   "source": [
    "class DCGAN(nn.Module):\n",
    "    def __init__(self, nz, ngf=64, output_size=1024, nc=1, num_measurements=64):\n",
    "        super(DCGAN, self).__init__()\n",
    "        self.nc = nc\n",
    "        self.output_size = output_size\n",
    "\n",
    "        # Deconv Layers: (in_channels, out_channels, kernel_size, stride, padding, bias = false)\n",
    "        # Inputs: R^(N x Cin x Lin), Outputs: R^(N, Cout, Lout) s.t. Lout = (Lin - 1)*stride - 2*padding + kernel_size\n",
    "\n",
    "        self.conv1 = nn.ConvTranspose1d(nz, ngf, 4, 1, 0, bias=False)\n",
    "        self.bn1 = nn.BatchNorm1d(ngf)\n",
    "        # LAYER 1: input: (random) zϵR^(nzx1), output: x1ϵR^(64x4) (channels x length)\n",
    "\n",
    "        self.conv2 = nn.ConvTranspose1d(ngf, ngf, 6, 2, 2, bias=False)\n",
    "        self.bn2 = nn.BatchNorm1d(ngf)\n",
    "        # LAYER 2: input: x1ϵR^(64x4), output: x2ϵR^(64x8) (channels x length)\n",
    "\n",
    "        self.conv3 = nn.ConvTranspose1d(ngf, ngf, 6, 2, 2, bias=False)\n",
    "        self.bn3 = nn.BatchNorm1d(ngf)\n",
    "        # LAYER 3: input: x1ϵR^(64x8), output: x2ϵR^(64x16) (channels x length)\n",
    "\n",
    "        self.conv4 = nn.ConvTranspose1d(ngf, ngf, 6, 2, 2, bias=False)\n",
    "        self.bn4 = nn.BatchNorm1d(ngf)\n",
    "        # LAYER 4: input: x1ϵR^(64x16), output: x2ϵR^(64x32) (channels x length)\n",
    "\n",
    "        self.conv5 = nn.ConvTranspose1d(ngf, ngf, 6, 2, 2, bias=False)\n",
    "        self.bn5 = nn.BatchNorm1d(ngf)\n",
    "        # LAYER 5: input: x2ϵR^(64x32), output: x3ϵR^(64x64) (channels x length)\n",
    "\n",
    "        self.conv6 = nn.ConvTranspose1d(ngf, ngf, 6, 2, 2, bias=False)\n",
    "        self.bn6 = nn.BatchNorm1d(ngf)\n",
    "        # LAYER 6: input: x3ϵR^(64x64), output: x4ϵR^(64x128) (channels x length)\n",
    "\n",
    "        self.conv7 = nn.ConvTranspose1d(ngf, ngf, 6, 2, 2, bias=False)\n",
    "        self.bn7 = nn.BatchNorm1d(ngf)\n",
    "        # LAYER 7: input: x4ϵR^(64x128), output: x5ϵR^(64x256) (channels x length)\n",
    "\n",
    "        self.conv8 = nn.ConvTranspose1d(ngf, ngf, 6, 2, 2, bias=False)\n",
    "        self.bn8 = nn.BatchNorm1d(ngf)\n",
    "        # LAYER 8: input: x5ϵR^(64x256), output: x6ϵR^(64x512) (channels x length)\n",
    "\n",
    "        self.conv9 = nn.ConvTranspose1d(ngf, nc, 4, 2, 1, bias=False)  # output is image\n",
    "        # LAYER 9: input: x6ϵR^(64x512), output: (sinusoid) G(z,w)ϵR^(1x1024) (channels x length)\n",
    "\n",
    "        self.fc = nn.Linear(output_size * nc, num_measurements, bias=False)  # output is A; measurement matrix\n",
    "        # each entry should be drawn from a Gaussian (random noisy measurements)\n",
    "        # don't compute gradient of self.fc! memory issues\n",
    "\n",
    "    def forward(self, x):\n",
    "        input_size = x.size()\n",
    "        x = F.relu(self.bn1(self.conv1(x)))\n",
    "        x = F.relu(self.bn2(self.conv2(x)))\n",
    "        x = F.relu(self.bn3(self.conv3(x)))\n",
    "        x = F.relu(self.bn4(self.conv4(x)))\n",
    "        x = F.relu(self.bn5(self.conv5(x)))\n",
    "        x = F.relu(self.bn6(self.conv6(x)))\n",
    "        x = F.relu(self.bn7(self.conv7(x)))\n",
    "        x = F.relu(self.bn8(self.conv8(x)))\n",
    "        x = F.tanh(self.conv9(x))\n",
    "\n",
    "        return x\n",
    "\n",
    "    def measurements(self, x):\n",
    "        # this gives the image - make it a single row vector of appropriate length\n",
    "        y = self.forward(x).view(1, -1)\n",
    "        y = y.cpu()\n",
    "\n",
    "        # pass thru FC layer - returns A*image\n",
    "        meas = self.fc(y)\n",
    "\n",
    "        if CUDA:\n",
    "            return meas.cuda()\n",
    "        else:\n",
    "            return meas"
   ]
  },
  {
   "cell_type": "markdown",
   "metadata": {},
   "source": [
    "### Initialise the net, random input vector, and optimiser"
   ]
  },
  {
   "cell_type": "code",
   "execution_count": 145,
   "metadata": {},
   "outputs": [
    {
     "name": "stdout",
     "output_type": "stream",
     "text": [
      "USING CUDA\n",
      "Execution Time:  0.0251 s\n"
     ]
    }
   ],
   "source": [
    "start = time.time()\n",
    "\n",
    "# get a DCGAN that outputs images of size WAVE_SIZE\n",
    "net = DCGAN(Z_NUM,NGF,WAVE_SIZE,nc,num_measurements) # initialize network\n",
    "net.fc.requires_grad = False\n",
    "\n",
    "if CUDA: # move network to GPU if available\n",
    "    net.cuda()\n",
    "    print(\"USING CUDA\")\n",
    "else:\n",
    "    print(\"RUNNING ON CPU\")\n",
    "    \n",
    "# initialize fully-connected layer weights as our matrix A    \n",
    "# if compressed, A_tensor: gaussian(0,1) entries in matrix of dim'n R^(num_meas x (wave_size*num_channels)) with normalized columns\n",
    "# else, A = identity\n",
    "if compressed:\n",
    "    if compressed_noisy:\n",
    "        net.fc.weight.data = (1 / math.sqrt(1.0 * num_measurements)) * torch.randn(num_measurements, WAVE_SIZE * nc) #measurement matrix is normalized gaussian R^(num_measurements, wave_size*num_channels)\n",
    "    else:\n",
    "        kept_samples = random.sample(range(0, WAVE_SIZE), num_measurements) #randomly select num_measurements samples to keep\n",
    "        net.fc.weight.data = torch.eye(WAVE_SIZE)[kept_samples,:] #grab rows corresponding to index of randomly kept samples from identity\n",
    "else:\n",
    "    net.fc.weight.data = torch.eye(WAVE_SIZE)\n",
    "\n",
    "allparams = [x for x in net.parameters()] #specifies which to compute gradients of\n",
    "allparams = allparams[:-1] # get rid of last item in list (fc layer) because it's memory intensive\n",
    "\n",
    "# Define input seed z as Torch variable, normalize\n",
    "z = Variable(torch.zeros(ALEX_BATCH_SIZE*Z_NUM).type(dtype).view(ALEX_BATCH_SIZE,Z_NUM,1))\n",
    "z.data.normal_().type(dtype)\n",
    "\n",
    "# Define optimizer\n",
    "optim = torch.optim.RMSprop(allparams,lr=LR,momentum=MOM, weight_decay=WD)\n",
    "\n",
    "end = time.time()\n",
    "print(\"Execution Time: \", round(end-start, 4), \"s\")"
   ]
  },
  {
   "cell_type": "markdown",
   "metadata": {},
   "source": [
    "### Z is (Batch size = 1, Channels = 32, Length = 1)"
   ]
  },
  {
   "cell_type": "code",
   "execution_count": 146,
   "metadata": {},
   "outputs": [
    {
     "name": "stdout",
     "output_type": "stream",
     "text": [
      "torch.Size([1, 32, 1])\n"
     ]
    }
   ],
   "source": [
    "print(z.shape)"
   ]
  },
  {
   "cell_type": "markdown",
   "metadata": {},
   "source": [
    "### Prepare training waveform for loss comparison during training"
   ]
  },
  {
   "cell_type": "code",
   "execution_count": 147,
   "metadata": {},
   "outputs": [
    {
     "name": "stdout",
     "output_type": "stream",
     "text": [
      "torch.Size([1, 256])\n"
     ]
    }
   ],
   "source": [
    "# Create measurements y, move to Torch variable\n",
    "# torch.mm does matrix multiplication on a flattened row-major version of the image (R^(1)X(H*W*Ch)) and A^T (R^(H*W*Ch)X(measurements)) to produce a R^(measurements vector)\n",
    "measurements = Variable(torch.mm(y.cpu().data.view(ALEX_BATCH_SIZE,-1),net.fc.weight.data.permute(1,0)),requires_grad=False) \n",
    "\n",
    "if CUDA: # move measurements to GPU if possible\n",
    "    measurements = measurements.cuda()\n",
    "    \n",
    "print(measurements.shape)"
   ]
  },
  {
   "cell_type": "markdown",
   "metadata": {},
   "source": [
    "### Train the network while tracking loss vs. reference wave"
   ]
  },
  {
   "cell_type": "code",
   "execution_count": 148,
   "metadata": {},
   "outputs": [
    {
     "name": "stderr",
     "output_type": "stream",
     "text": [
      "/home/sravula/anaconda3/lib/python3.6/site-packages/torch/nn/functional.py:995: UserWarning: nn.functional.tanh is deprecated. Use torch.tanh instead.\n",
      "  warnings.warn(\"nn.functional.tanh is deprecated. Use torch.tanh instead.\")\n"
     ]
    },
    {
     "name": "stdout",
     "output_type": "stream",
     "text": [
      "149 tensor(0.0001, device='cuda:0')\n"
     ]
    },
    {
     "data": {
      "image/png": "[encoded data removed]",
      "text/plain": [
       "<Figure size 432x288 with 1 Axes>"
      ]
     },
     "metadata": {},
     "output_type": "display_data"
    },
    {
     "name": "stdout",
     "output_type": "stream",
     "text": [
      "Output MSE:  0.00516\n",
      "Noisy Signal MSE:  0.0\n",
      "Is final output better than noisy?:  False - Noisy MSE is  -100.0  percent greater\n",
      "Execution Time:  1.44 s\n"
     ]
    }
   ],
   "source": [
    "# Create numpy logs to store images, MSE values (from ground truth) for each iteration\n",
    "mse_log = np.zeros((NUM_ITER))#, nc))\n",
    "wave_log = np.zeros((NUM_ITER, WAVE_SIZE))#, nc))\n",
    "\n",
    "start = time.time()\n",
    "\n",
    "for i in range(NUM_ITER):\n",
    "    optim.zero_grad() # clears graidents of all optimized variables\n",
    "    out = net(z) # produces wave (in form of data tensor) i.e. G(z,w)\n",
    "    \n",
    "    loss = mse(net.measurements(z),measurements) # calculate loss between AG(z,w) and Ay\n",
    "         \n",
    "    # DCGAN output is in [-1,1]. Renormalise to [0,1] before plotting\n",
    "    wave = renormalise(out).data[0].cpu().numpy()[0,:] \n",
    "\n",
    "    wave_log[i] = wave # save image to image_log\n",
    "    mse_log[i] = np.mean((y0_denoised - wave)**2)\n",
    "    \n",
    "    if i == NUM_ITER - 1:\n",
    "        print(i,loss.data)\n",
    "        \n",
    "        plt.plot(np.arange(1024), wave)\n",
    "        #plt.plot(np.arange(1024), y0_denoised, color='r')\n",
    "        plt.xlabel(\"Sample\")\n",
    "        plt.ylabel(\"Value\")\n",
    "        plt.title(\"Final net Output\")\n",
    "        plt.show()\n",
    "    \n",
    "    loss.backward()\n",
    "    optim.step()\n",
    "    \n",
    "#calculate MSE between output wave and non-noisy original; and between noisy and original\n",
    "True_MSE = mse_log[NUM_ITER-1]\n",
    "Noisy_MSE = np.mean((y0 - y0_denoised)**2)\n",
    "print(\"Output MSE: \", round(True_MSE, 5))\n",
    "print(\"Noisy Signal MSE: \", round(Noisy_MSE, 5))\n",
    "print(\"Is final output better than noisy?: \", True_MSE < Noisy_MSE, \"- Noisy MSE is \", round(100.0*(Noisy_MSE - True_MSE)/True_MSE, 3), \" percent greater\")\n",
    "\n",
    "end = time.time()\n",
    "print(\"Execution Time: \", round(end-start, 2), \"s\")"
   ]
  },
  {
   "cell_type": "markdown",
   "metadata": {},
   "source": [
    "### Plot the smoothest net output from all iterations"
   ]
  },
  {
   "cell_type": "code",
   "execution_count": 149,
   "metadata": {},
   "outputs": [
    {
     "name": "stdout",
     "output_type": "stream",
     "text": [
      "Min Index: 122\n",
      "Min MSE:   4.4846e-03\n",
      "Noisy MSE is  -100.0 percent greater than min network MSE\n"
     ]
    },
    {
     "data": {
      "image/png": "[encoded data removed]",
      "text/plain": [
       "<Figure size 432x288 with 1 Axes>"
      ]
     },
     "metadata": {},
     "output_type": "display_data"
    }
   ],
   "source": [
    "from decimal import Decimal \n",
    "\n",
    "# format value n (to 4 decimal pts) for easy visualization\n",
    "def format_e(n, dec=4, is_hparam = False): \n",
    "    a = '%E' % n\n",
    "    pre = a.split('E')[0].rstrip('0').rstrip('.')\n",
    "    pre = str(round(float(pre), dec))\n",
    "    if is_hparam == True:\n",
    "        pre = str(int(float(pre))) # get rid of decimal\n",
    "    return pre + 'e' + a.split('E')[1]\n",
    "    \n",
    "min_idx = np.argmin(mse_log) # find iteration with lowest loss\n",
    "wave_best = wave_log[min_idx] # get corresponding image\n",
    "min_mse = format_e(mse_log[min_idx]) # get corresponding mse\n",
    "#last_mse = format_e(mse_log[NUM_ITER-1]) # get mse of last iter'n\n",
    "\n",
    "print('Min Index: ' + str(min_idx))\n",
    "print('Min MSE:   ' + str(min_mse))\n",
    "#print('Last MSE: ' + str(last_mse))\n",
    "min_diff = 100.0*(Noisy_MSE - mse_log[min_idx])/mse_log[min_idx]\n",
    "print(\"Noisy MSE is \", round(min_diff, 4), \"percent greater than min network MSE\")\n",
    "\n",
    "plt.plot(np.arange(1024), wave_best)\n",
    "#plt.plot(np.arange(1024), y0_denoised, color='r')\n",
    "plt.xlabel(\"Sample\")\n",
    "plt.ylabel(\"Value\")\n",
    "plt.title(\"Best net Output\")\n",
    "plt.show()"
   ]
  },
  {
   "cell_type": "markdown",
   "metadata": {},
   "source": [
    "### Plot training iterations vs loss (against reference wave, not training wave)"
   ]
  },
  {
   "cell_type": "code",
   "execution_count": 150,
   "metadata": {},
   "outputs": [
    {
     "data": {
      "text/plain": [
       "[<matplotlib.lines.Line2D at 0x7f044c78bb70>]"
      ]
     },
     "execution_count": 150,
     "metadata": {},
     "output_type": "execute_result"
    },
    {
     "data": {
      "image/png": "[encoded data removed]",
      "text/plain": [
       "<Figure size 432x288 with 1 Axes>"
      ]
     },
     "metadata": {},
     "output_type": "display_data"
    }
   ],
   "source": [
    "from matplotlib.axes import Axes\n",
    "\n",
    "itern = np.arange(NUM_ITER)\n",
    "\n",
    "plt.figure()\n",
    "plt.ylabel('MSE')\n",
    "plt.title(\"MSE vs Iterations\")\n",
    "plt.semilogy(itern, mse_log)"
   ]
  }
 ],
 "metadata": {
  "kernelspec": {
   "display_name": "Python 3",
   "language": "python",
   "name": "python3"
  },
  "language_info": {
   "codemirror_mode": {
    "name": "ipython",
    "version": 3
   },
   "file_extension": ".py",
   "mimetype": "text/x-python",
   "name": "python",
   "nbconvert_exporter": "python",
   "pygments_lexer": "ipython3",
   "version": "3.6.5"
  }
 },
 "nbformat": 4,
 "nbformat_minor": 2
}
