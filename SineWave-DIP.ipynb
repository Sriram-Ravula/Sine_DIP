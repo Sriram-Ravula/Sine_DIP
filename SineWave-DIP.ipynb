{
 "cells": [
  {
   "cell_type": "code",
   "execution_count": 601,
   "metadata": {},
   "outputs": [
    {
     "name": "stdout",
     "output_type": "stream",
     "text": [
      "env: CUDA_VISIBLE_DEVICES=0\n"
     ]
    }
   ],
   "source": [
    "import matplotlib.pyplot as plt\n",
    "import numpy as np\n",
    "import random\n",
    "\n",
    "%env CUDA_VISIBLE_DEVICES=0\n",
    "import torch\n",
    "import torchvision as tv\n",
    "from torchvision import datasets, transforms\n",
    "\n",
    "from torch.autograd import Variable\n",
    "import torch.nn as nn\n",
    "import torch.nn.functional as F\n",
    "\n",
    "import numpy as np\n",
    "import matplotlib.pyplot as plt\n",
    "%matplotlib inline\n",
    "\n",
    "#import torch_dip_utils as utils\n",
    "import utils\n",
    "import math\n",
    "\n",
    "from dip.models.__init__ import get_net\n",
    "from dip.utils.common_utils import get_noise\n",
    "from dip.models.downsampler import Downsampler"
   ]
  },
  {
   "cell_type": "code",
   "execution_count": 602,
   "metadata": {},
   "outputs": [],
   "source": [
    "#set up hyperparameters, net input/output sizes, and whether the problem is compressed sensing\n",
    "\n",
    "LR = 1e-3 # learning rate\n",
    "MOM = 0.9 # momentum\n",
    "NUM_ITER = 100 # number iterations\n",
    "WD = 1e-4 # weight decay for l2-regularization\n",
    "THRESH = 0.0\n",
    "LOG_FREQ = 100 # frequency at which to display image during training\n",
    "\n",
    "Z_NUM = 32 # input seed\n",
    "NGF = 64 # number of filters per layer\n",
    "ALEX_BATCH_SIZE = 1 # batch size of gradient step\n",
    "nc = 1 #1 channel\n",
    "WAVE_SIZE = 1024 #length of waveform\n",
    "\n",
    "#if this is not a compressed sensing problem, we want A to be square \n",
    "compressed = False\n",
    "\n",
    "if compressed:\n",
    "    num_measurements = 64\n",
    "else:\n",
    "    num_measurements = WAVE_SIZE\n"
   ]
  },
  {
   "cell_type": "code",
   "execution_count": 603,
   "metadata": {},
   "outputs": [
    {
     "name": "stdout",
     "output_type": "stream",
     "text": [
      "True\n",
      "<torch.cuda.device object at 0x7f3dd2a13dd8>\n"
     ]
    }
   ],
   "source": [
    "CUDA = torch.cuda.is_available()\n",
    "print(CUDA)\n",
    "\n",
    "#save the correct datatype depending on CPU or GPU execution\n",
    "if CUDA : \n",
    "    dtype = torch.cuda.FloatTensor  \n",
    "    print(torch.cuda.device(0))\n",
    "else:\n",
    "    dtype = torch.FloatTensor\n",
    "    print(\"NO DEVICES\")"
   ]
  },
  {
   "cell_type": "code",
   "execution_count": 604,
   "metadata": {},
   "outputs": [
    {
     "data": {
      "image/png": "[encoded data removed]",
      "text/plain": [
       "<Figure size 432x288 with 1 Axes>"
      ]
     },
     "metadata": {},
     "output_type": "display_data"
    }
   ],
   "source": [
    "#Produces a sinusoid with optional additive gaussian noise distributed (mean, std)\n",
    "def get_sinusoid(num_samples, num_periods, noisy=True, std=0.1, mean=0):\n",
    "    \n",
    "    Fs = num_samples\n",
    "    x = np.arange(num_samples)\n",
    "    \n",
    "    y = np.sin(2*np.pi * num_periods * x / Fs)\n",
    "    \n",
    "    if noisy:\n",
    "        y += (std * np.random.randn(num_samples)) + mean\n",
    "    \n",
    "    return y\n",
    "\n",
    "y0 = get_sinusoid(num_samples = WAVE_SIZE, num_periods = 1, noisy=True)\n",
    "                 \n",
    "plt.plot(np.arange(1024), y0)\n",
    "plt.xlabel(\"Sample\")\n",
    "plt.ylabel(\"Value\")\n",
    "plt.show()"
   ]
  },
  {
   "cell_type": "code",
   "execution_count": 605,
   "metadata": {},
   "outputs": [
    {
     "name": "stdout",
     "output_type": "stream",
     "text": [
      "0.00382499803101799 1.2372878421983398\n"
     ]
    }
   ],
   "source": [
    "#ugly solution for maintaining wave's original image stats for normalization/renormalization \n",
    "#normalization maps wave's range: [a,b] --> [-1,1], renormalization reverses this\n",
    "def get_stats(x):\n",
    "    a = np.min(x)\n",
    "    b = np.max(x)\n",
    "    mu = (a+b)/2.0\n",
    "    sigma = (b-a)/2.0\n",
    "    return [mu, sigma]\n",
    "\n",
    "mu = get_stats(y0)[0]\n",
    "sigma = get_stats(y0)[1]\n",
    "\n",
    "def normalise(x):\n",
    "    return (x-mu)/sigma\n",
    "\n",
    "def renormalise(x):\n",
    "    return x*sigma + mu\n",
    "\n",
    "print(mu, sigma)"
   ]
  },
  {
   "cell_type": "code",
   "execution_count": 606,
   "metadata": {},
   "outputs": [
    {
     "name": "stdout",
     "output_type": "stream",
     "text": [
      "torch.Size([1024])\n"
     ]
    }
   ],
   "source": [
    "#convert array to tensor and normalise to [-1,1] for net's activation functions\n",
    "\n",
    "y = torch.Tensor(y0)\n",
    "y = normalise(y)\n",
    "y = Variable(y.type(dtype))\n",
    "print(y.shape)"
   ]
  },
  {
   "cell_type": "code",
   "execution_count": 607,
   "metadata": {},
   "outputs": [],
   "source": [
    "#get the proper MSE loss based on the datatype\n",
    "mse = torch.nn.MSELoss().type(dtype)"
   ]
  },
  {
   "cell_type": "code",
   "execution_count": 608,
   "metadata": {},
   "outputs": [],
   "source": [
    "class DCGAN(nn.Module):\n",
    "    def __init__(self, nz, ngf=64, output_size=1024, nc=1, num_measurements=64):\n",
    "        super(DCGAN, self).__init__()\n",
    "        self.nc = nc\n",
    "        self.output_size = output_size\n",
    "\n",
    "        #Deconv Layers: (in_channels, out_channels, kernel_size, stride, padding, bias = false)\n",
    "        #Inputs: R^(N x Cin x Lin), Outputs: R^(N, Cout, Lout) s.t. Lout = (Lin - 1)*stride - 2*padding + kernel_size\n",
    "        \n",
    "        self.conv1 = nn.ConvTranspose1d(nz, ngf, 16, 1, 0, bias=False)\n",
    "        self.bn1 = nn.BatchNorm1d(ngf)\n",
    "        #LAYER 1: input: (random) zϵR^(nzx1), output: x1ϵR^(2048x16) (channels x length) \n",
    "        \n",
    "        self.conv2 = nn.ConvTranspose1d(ngf, ngf, 4, 2, 1, bias=False)\n",
    "        self.bn2 = nn.BatchNorm1d(ngf)\n",
    "        #LAYER 2: input: x1ϵR^(2048x16), output: x2ϵR^(1024x32) (channels x length) \n",
    "        \n",
    "        self.conv3 = nn.ConvTranspose1d(ngf, ngf, 4, 2, 1, bias=False)\n",
    "        self.bn3 = nn.BatchNorm1d(ngf)\n",
    "        #LAYER 3: input: x2ϵR^(1024x32), output: x3ϵR^(512x64) (channels x length) \n",
    "        \n",
    "        self.conv4 = nn.ConvTranspose1d(ngf, ngf, 4, 2, 1, bias=False)\n",
    "        self.bn4 = nn.BatchNorm1d(ngf)\n",
    "        #LAYER 4: input: x3ϵR^(512x64), output: x4ϵR^(256x128) (channels x length) \n",
    "        \n",
    "        self.conv5 = nn.ConvTranspose1d(ngf, ngf, 4, 2, 1, bias=False)\n",
    "        self.bn5 = nn.BatchNorm1d(ngf)\n",
    "        #LAYER 5: input: x4ϵR^(256x128), output: x5ϵR^(128x256) (channels x length) \n",
    "        \n",
    "        self.conv6 = nn.ConvTranspose1d(ngf, ngf, 4, 2, 1, bias=False)\n",
    "        self.bn6 = nn.BatchNorm1d(ngf)\n",
    "        #LAYER 6: input: x5ϵR^(128x256), output: x6ϵR^(64x512) (channels x length) \n",
    "        \n",
    "        self.conv7 = nn.ConvTranspose1d(ngf, nc, 4, 2, 1, bias=False) #output is image\n",
    "        #LAYER 7: input: x6ϵR^(64x512), output: (sinusoid) G(z,w)ϵR^(1x1024) (channels x length) \n",
    "        \n",
    "        self.fc = nn.Linear(output_size*nc,num_measurements, bias=False) #output is A; measurement matrix\n",
    "        # each entry should be drawn from a Gaussian (random noisy measurements)\n",
    "        # don't compute gradient of self.fc! memory issues\n",
    "   \n",
    "    def forward(self, x):\n",
    "        input_size = x.size()\n",
    "        x = F.relu(self.bn1(self.conv1(x)))\n",
    "        x = F.relu(self.bn2(self.conv2(x)))\n",
    "        x = F.relu(self.bn3(self.conv3(x)))\n",
    "        x = F.relu(self.bn4(self.conv4(x)))\n",
    "        x = F.relu(self.bn5(self.conv5(x)))\n",
    "        x = F.relu(self.bn6(self.conv6(x)))\n",
    "        x = F.tanh(self.conv7(x))\n",
    "       \n",
    "        return x\n",
    "   \n",
    "    def measurements(self, x):\n",
    "        # this gives the image - make it a single row vector of appropriate length\n",
    "        y = self.forward(x).view(1,-1)\n",
    "        y = y.cpu()\n",
    "        \n",
    "        #pass thru FC layer - returns A*image\n",
    "        meas = self.fc(y)\n",
    "        \n",
    "        if CUDA:\n",
    "            return meas.cuda()\n",
    "        else:\n",
    "            return meas"
   ]
  },
  {
   "cell_type": "code",
   "execution_count": 609,
   "metadata": {},
   "outputs": [
    {
     "name": "stdout",
     "output_type": "stream",
     "text": [
      "USING CUDA\n"
     ]
    }
   ],
   "source": [
    "# get a DCGAN that outputs images of size WAVE_SIZE\n",
    "net = DCGAN(Z_NUM,NGF,WAVE_SIZE,nc,num_measurements) # initialize network\n",
    "net.fc.requires_grad = False\n",
    "\n",
    "if CUDA: # move network to GPU if available\n",
    "    net.cuda()\n",
    "    print(\"USING CUDA\")\n",
    "else:\n",
    "    print(\"RUNNING ON CPU\")\n",
    "    \n",
    "# initialize fully-connected layer weights as our matrix A    \n",
    "# if compressed, A_tensor: gaussian(0,1) entries in matrix of dim'n R^(num_meas x (wave_size x num_channels))\n",
    "# else, A = identity\n",
    "if compressed:\n",
    "    net.fc.weight.data = (1/math.sqrt(1.0*num_measurements)) * torch.randn(num_measurements, WAVE_SIZE*nc)\n",
    "else:\n",
    "    net.fc.weight.data = torch.eye(num_measurements)\n",
    "\n",
    "allparams = [x for x in net.parameters()] #specifies which to compute gradients of\n",
    "allparams = allparams[:-1] # get rid of last item in list (fc layer) because it's memory intensive\n",
    "\n",
    "\n",
    "# Define input seed z as Torch variable, normalize\n",
    "z = Variable(torch.zeros(ALEX_BATCH_SIZE*Z_NUM).type(dtype).view(ALEX_BATCH_SIZE,Z_NUM,1))\n",
    "z.data.normal_().type(dtype)\n",
    "\n",
    "# Define optimizer\n",
    "optim = torch.optim.RMSprop(allparams,lr=LR,momentum=MOM, weight_decay=WD)"
   ]
  },
  {
   "cell_type": "code",
   "execution_count": 610,
   "metadata": {},
   "outputs": [
    {
     "name": "stdout",
     "output_type": "stream",
     "text": [
      "torch.Size([1, 32, 1])\n"
     ]
    }
   ],
   "source": [
    "print(z.shape)"
   ]
  },
  {
   "cell_type": "code",
   "execution_count": 611,
   "metadata": {},
   "outputs": [
    {
     "name": "stdout",
     "output_type": "stream",
     "text": [
      "torch.Size([1, 1024])\n"
     ]
    }
   ],
   "source": [
    "# Create measurements y, move to Torch variable\n",
    "# torch.mm does matrix multiplication on a flattened row-major version of the image (R^(1)X(H*W*Ch)) and A^T (R^(H*W*Ch)X(measurements)) to produce a R^(measurements vector)\n",
    "measurements = Variable(torch.mm(y.cpu().data.view(ALEX_BATCH_SIZE,-1),net.fc.weight.data.permute(1,0)),requires_grad=False) \n",
    "\n",
    "if CUDA: # move measurements to GPU if possible\n",
    "    measurements = measurements.cuda()\n",
    "    \n",
    "print(measurements.shape)"
   ]
  },
  {
   "cell_type": "code",
   "execution_count": 612,
   "metadata": {},
   "outputs": [
    {
     "name": "stderr",
     "output_type": "stream",
     "text": [
      "/home/sravula/anaconda3/lib/python3.6/site-packages/torch/nn/functional.py:995: UserWarning: nn.functional.tanh is deprecated. Use torch.tanh instead.\n",
      "  warnings.warn(\"nn.functional.tanh is deprecated. Use torch.tanh instead.\")\n"
     ]
    },
    {
     "name": "stdout",
     "output_type": "stream",
     "text": [
      "99 tensor(0.0051, device='cuda:0')\n"
     ]
    },
    {
     "data": {
      "image/png": "[encoded data removed]",
      "text/plain": [
       "<Figure size 432x288 with 1 Axes>"
      ]
     },
     "metadata": {},
     "output_type": "display_data"
    },
    {
     "name": "stdout",
     "output_type": "stream",
     "text": [
      "Output Smoothness:  0.0014\n",
      "Noisy Signal MSE:  0.00975\n",
      "Is output better than noisy?:  True - Noisy MSE is  597.594  percent greater\n",
      "Execution Time:  1.48 s\n"
     ]
    }
   ],
   "source": [
    "import time\n",
    "\n",
    "# Create numpy logs to store images, MSE values for each iteration\n",
    "mse_log = np.zeros((NUM_ITER))#, nc))\n",
    "wave_log = np.zeros((NUM_ITER, WAVE_SIZE))#, nc))\n",
    "\n",
    "y0_denoised = get_sinusoid(num_samples = WAVE_SIZE, num_periods = 1, noisy=False)\n",
    "\n",
    "start = time.time()\n",
    "\n",
    "for i in range(NUM_ITER):\n",
    "    optim.zero_grad() # clears graidents of all optimized variables\n",
    "    out = net(z) # produces wave (in form of data tensor) i.e. G(z,w)\n",
    "    loss = mse(net.measurements(z),measurements) # calculate loss between AG(z,w) and Ay\n",
    "         \n",
    "    # DCGAN output is in [-1,1]. Renormalise to [0,1] before plotting\n",
    "    wave = renormalise(out).data[0].cpu().numpy() \n",
    "\n",
    "    wave_log[i] = wave[0,:] # save image to image_log\n",
    "    #mse_log[i] = ((im - im_orig) ** 2).mean(axis=None) # @Sriram: fix dimensionality error to record MSE\n",
    "    \n",
    "    if i == NUM_ITER - 1:\n",
    "        print(i,loss.data)\n",
    "        \n",
    "        plt.plot(np.arange(1024), wave[0,:])\n",
    "        plt.xlabel(\"Sample\")\n",
    "        plt.ylabel(\"Value\")\n",
    "        plt.show()\n",
    "    \n",
    "    loss.backward()\n",
    "    optim.step()\n",
    "    \n",
    "#calculate MSE between output wave and non-noisy original; and between noisy and original\n",
    "True_MSE = np.mean((y0_denoised - wave_log[NUM_ITER-1])**2)\n",
    "Noisy_MSE = np.mean((y0_denoised - y0)**2)\n",
    "print(\"Output Smoothness: \", round(True_MSE, 5))\n",
    "print(\"Noisy Signal MSE: \", round(Noisy_MSE, 5))\n",
    "print(\"Is output better than noisy?: \", True_MSE < Noisy_MSE, \"- Noisy MSE is \", round(100.0*(Noisy_MSE - True_MSE)/True_MSE, 3), \" percent greater\")\n",
    "\n",
    "end = time.time()\n",
    "print(\"Execution Time: \", round(end-start, 2), \"s\")"
   ]
  }
 ],
 "metadata": {
  "kernelspec": {
   "display_name": "Python 3",
   "language": "python",
   "name": "python3"
  },
  "language_info": {
   "codemirror_mode": {
    "name": "ipython",
    "version": 3
   },
   "file_extension": ".py",
   "mimetype": "text/x-python",
   "name": "python",
   "nbconvert_exporter": "python",
   "pygments_lexer": "ipython3",
   "version": "3.6.5"
  }
 },
 "nbformat": 4,
 "nbformat_minor": 2
}
