{
 "cells": [
  {
   "cell_type": "code",
   "execution_count": 873,
   "metadata": {},
   "outputs": [
    {
     "name": "stdout",
     "output_type": "stream",
     "text": [
      "env: CUDA_VISIBLE_DEVICES=0\n"
     ]
    }
   ],
   "source": [
    "import matplotlib.pyplot as plt\n",
    "import numpy as np\n",
    "import random\n",
    "import scipy.fftpack as spfft\n",
    "\n",
    "%env CUDA_VISIBLE_DEVICES=0\n",
    "import torch\n",
    "import torchvision as tv\n",
    "from torchvision import datasets, transforms\n",
    "\n",
    "from torch.autograd import Variable\n",
    "import torch.nn as nn\n",
    "import torch.nn.functional as F\n",
    "\n",
    "import numpy as np\n",
    "import matplotlib.pyplot as plt\n",
    "%matplotlib inline\n",
    "\n",
    "#import torch_dip_utils as utils\n",
    "import math\n",
    "\n",
    "import time\n",
    "\n",
    "import pywt"
   ]
  },
  {
   "cell_type": "code",
   "execution_count": 874,
   "metadata": {},
   "outputs": [],
   "source": [
    "LR = 1e-4 # learning rate\n",
    "MOM = 0.9 # momentum\n",
    "NUM_ITER = 10000 # number iterations\n",
    "WD = 1e-4 # weight decay for l2-regularization\n",
    "\n",
    "INPUT_LEN = 32 # input len\n",
    "INPUT_CHANS = 64 #number of channels in our input \n",
    "\n",
    "OUTPUT_CHANS = 1 #num channels in the net output\n",
    "OUTPUT_LEN = 128\n",
    "\n",
    "X_OUTPUT = np.arange(OUTPUT_LEN) #set up an axis for plotting wave outputs\n",
    "\n",
    "NUM_MEASUREMENTS = 100"
   ]
  },
  {
   "cell_type": "code",
   "execution_count": 875,
   "metadata": {},
   "outputs": [
    {
     "name": "stdout",
     "output_type": "stream",
     "text": [
      "True\n",
      "<torch.cuda.device object at 0x7fc3a3a11470>\n"
     ]
    }
   ],
   "source": [
    "CUDA = torch.cuda.is_available()\n",
    "#CUDA = False\n",
    "print(CUDA)\n",
    "\n",
    "#save the correct datatype depending on CPU or GPU execution\n",
    "if CUDA : \n",
    "    dtype = torch.cuda.FloatTensor  \n",
    "    print(torch.cuda.device(0))\n",
    "else:\n",
    "    dtype = torch.FloatTensor\n",
    "    print(\"NO DEVICES\")"
   ]
  },
  {
   "cell_type": "code",
   "execution_count": 876,
   "metadata": {},
   "outputs": [],
   "source": [
    "#INPUT_LEN = 32\n",
    "#Latent size = output for input_chans = 4\n",
    "class DCGAN(nn.Module):\n",
    "    def __init__(self, input_chans=32, output_chans=1, num_measurements = 128, output_size = 128):\n",
    "        super(DCGAN, self).__init__()\n",
    "        self.nc = output_chans\n",
    "        self.output_size = output_size\n",
    "        self.CUDA = CUDA\n",
    "\n",
    "        #for default case (32 input_chans) - #params = output_len\n",
    "        #reduce input_chans to underparameterize, increase to overparameterize\n",
    "\n",
    "        self.conv1 = nn.ConvTranspose1d(input_chans, output_chans, 4, 4, 0, bias=False) #fine filter\n",
    "        \n",
    "        self.fc = nn.Linear(output_size * output_chans, num_measurements, bias=False)\n",
    "\n",
    "    def forward(self, x):\n",
    "        x = self.conv1(x)\n",
    "\n",
    "        return x\n",
    "    \n",
    "    def measurements(self, x):\n",
    "        y = self.forward(x).view(1, -1)\n",
    "\n",
    "        meas = self.fc(y).view(-1, 1)\n",
    "\n",
    "        if self.CUDA:\n",
    "            return meas.cuda()\n",
    "        else:\n",
    "            return meas"
   ]
  },
  {
   "cell_type": "code",
   "execution_count": 877,
   "metadata": {},
   "outputs": [],
   "source": [
    "y0 = np.zeros((OUTPUT_LEN, 1))\n",
    "y0[:,0] = pywt.data.demo_signal(name='Heavisine', n=OUTPUT_LEN)"
   ]
  },
  {
   "cell_type": "code",
   "execution_count": 878,
   "metadata": {},
   "outputs": [],
   "source": [
    "def get_stats(x):\n",
    "    a = np.min(x)\n",
    "    b = np.max(x)\n",
    "    mu = (a+b)/2.0\n",
    "    sigma = (b-a)/2.0\n",
    "    return [mu, sigma]\n",
    "    #mu = np.mean(x)\n",
    "    #sigma = np.std(x)\n",
    "    #return [mu, sigma]\n",
    "\n",
    "MU = get_stats(y0)[0]\n",
    "SIGMA = get_stats(y0)[1]\n",
    "\n",
    "def normalise(x):\n",
    "    return (x-MU)/SIGMA\n",
    "\n",
    "def renormalise(x):\n",
    "    return x*SIGMA + MU"
   ]
  },
  {
   "cell_type": "code",
   "execution_count": 879,
   "metadata": {},
   "outputs": [
    {
     "data": {
      "image/png": "[encoded data removed]",
      "text/plain": [
       "<Figure size 432x288 with 1 Axes>"
      ]
     },
     "metadata": {
      "needs_background": "light"
     },
     "output_type": "display_data"
    }
   ],
   "source": [
    "y0 = normalise(y0)\n",
    "plt.figure()\n",
    "plt.plot(X_OUTPUT, y0, color='r')\n",
    "plt.xlabel(\"Sample\")\n",
    "plt.title(\"Noisy Waveform\")\n",
    "plt.show()"
   ]
  },
  {
   "cell_type": "code",
   "execution_count": 880,
   "metadata": {},
   "outputs": [
    {
     "name": "stdout",
     "output_type": "stream",
     "text": [
      "(100, 128)\n",
      "(100, 1)\n"
     ]
    }
   ],
   "source": [
    "kept_samples = random.sample(range(0, OUTPUT_LEN), NUM_MEASUREMENTS)\n",
    "imputed_samples = [z for z in range(0, OUTPUT_LEN) if z not in kept_samples]\n",
    "\n",
    "A = np.eye(OUTPUT_LEN)[kept_samples, :]\n",
    "print(A.shape)\n",
    "\n",
    "y1 = np.dot(A, y0)\n",
    "print(y1.shape)"
   ]
  },
  {
   "cell_type": "code",
   "execution_count": 881,
   "metadata": {},
   "outputs": [],
   "source": [
    "y = torch.Tensor(y1)\n",
    "y = Variable(y.type(dtype))\n",
    "\n",
    "if CUDA:\n",
    "    y = y.cuda()"
   ]
  },
  {
   "cell_type": "code",
   "execution_count": 882,
   "metadata": {},
   "outputs": [
    {
     "name": "stdout",
     "output_type": "stream",
     "text": [
      "USING CUDA\n"
     ]
    }
   ],
   "source": [
    "net = DCGAN(input_chans = INPUT_CHANS, output_chans = OUTPUT_CHANS, num_measurements=NUM_MEASUREMENTS)\n",
    "net.fc.requires_grad = False\n",
    "net.fc.weight.data = torch.Tensor(A)\n",
    "\n",
    "allparams = [x for x in net.parameters()]\n",
    "allparams = allparams[:-1]\n",
    "\n",
    "z = Variable(torch.zeros(INPUT_LEN * INPUT_CHANS).type(dtype).view(1,INPUT_CHANS,INPUT_LEN))\n",
    "z.data.normal_().type(dtype)\n",
    "z.requires_grad = False\n",
    "\n",
    "if CUDA:\n",
    "    net.cuda()\n",
    "    print(\"USING CUDA\")\n",
    "else:\n",
    "    print(\"RUNNING ON CPU\")"
   ]
  },
  {
   "cell_type": "code",
   "execution_count": 883,
   "metadata": {},
   "outputs": [],
   "source": [
    "optim = torch.optim.RMSprop(allparams,lr=LR,momentum=MOM, weight_decay=WD)\n",
    "\n",
    "mse = torch.nn.MSELoss().type(dtype)"
   ]
  },
  {
   "cell_type": "code",
   "execution_count": 884,
   "metadata": {},
   "outputs": [
    {
     "name": "stdout",
     "output_type": "stream",
     "text": [
      "9999\n"
     ]
    },
    {
     "data": {
      "image/png": "[encoded data removed]",
      "text/plain": [
       "<Figure size 432x288 with 1 Axes>"
      ]
     },
     "metadata": {
      "needs_background": "light"
     },
     "output_type": "display_data"
    },
    {
     "name": "stdout",
     "output_type": "stream",
     "text": [
      "Execution Time:  7.4 s\n"
     ]
    }
   ],
   "source": [
    "mse_log_true = np.zeros((NUM_ITER))\n",
    "mse_log_noisy = np.zeros((NUM_ITER))\n",
    "\n",
    "start = time.time()\n",
    "\n",
    "for i in range(NUM_ITER):\n",
    "    optim.zero_grad()\n",
    "    out = net(z)\n",
    "    \n",
    "    if(i%100 ==0):\n",
    "    \n",
    "        awgn = np.zeros((NUM_MEASUREMENTS, 1))\n",
    "        awgn[:,0] = 0.1 * np.random.randn(NUM_MEASUREMENTS)\n",
    "    \n",
    "        y = torch.Tensor(y1 + awgn)\n",
    "        y = Variable(y.type(dtype))\n",
    "\n",
    "        if CUDA:\n",
    "            y = y.cuda()\n",
    "    \n",
    "    loss = mse(net.measurements(z), y) \n",
    "\n",
    "    wave = out[0].detach().reshape(-1, OUTPUT_CHANS).cpu().numpy()\n",
    "\n",
    "    mse_log_true[i] = np.mean((np.squeeze(y0)[imputed_samples] - np.squeeze(wave)[imputed_samples])**2)\n",
    "    mse_log_noisy[i] = np.mean((np.squeeze(y0)[kept_samples] - np.squeeze(wave)[kept_samples])**2)\n",
    "    \n",
    "    if i == NUM_ITER - 1:\n",
    "        print(i)\n",
    "        \n",
    "        plt.plot(X_OUTPUT, wave)\n",
    "        plt.xlabel(\"Sample\")\n",
    "        plt.ylabel(\"Value\")\n",
    "        plt.title(\"Final net Output\")\n",
    "        plt.show()\n",
    "    \n",
    "    loss.backward()\n",
    "    optim.step()\n",
    "    \n",
    "end = time.time()\n",
    "print(\"Execution Time: \", round(end-start, 2), \"s\")"
   ]
  },
  {
   "cell_type": "code",
   "execution_count": 885,
   "metadata": {},
   "outputs": [
    {
     "data": {
      "image/png": "[encoded data removed]",
      "text/plain": [
       "<Figure size 432x288 with 1 Axes>"
      ]
     },
     "metadata": {
      "needs_background": "light"
     },
     "output_type": "display_data"
    }
   ],
   "source": [
    "plt.figure()\n",
    "plt.plot(np.arange(NUM_ITER), mse_log_true, color='r', label='Test Loss')\n",
    "plt.plot(np.arange(NUM_ITER), mse_log_noisy, color='b', label='Train Loss')\n",
    "plt.legend()\n",
    "plt.xlabel(\"Iteration\")\n",
    "plt.ylabel(\"MSE\")\n",
    "plt.xscale(\"log\")\n",
    "#plt.ylim(0, 0.2)\n",
    "plt.show()"
   ]
  }
 ],
 "metadata": {
  "kernelspec": {
   "display_name": "Python 3",
   "language": "python",
   "name": "python3"
  },
  "language_info": {
   "codemirror_mode": {
    "name": "ipython",
    "version": 3
   },
   "file_extension": ".py",
   "mimetype": "text/x-python",
   "name": "python",
   "nbconvert_exporter": "python",
   "pygments_lexer": "ipython3",
   "version": "3.7.3"
  }
 },
 "nbformat": 4,
 "nbformat_minor": 2
}
