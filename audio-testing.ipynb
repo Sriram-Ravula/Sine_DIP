{
 "cells": [
  {
   "cell_type": "markdown",
   "metadata": {},
   "source": [
    "## Imports...."
   ]
  },
  {
   "cell_type": "code",
   "execution_count": 165,
   "metadata": {},
   "outputs": [
    {
     "name": "stdout",
     "output_type": "stream",
     "text": [
      "env: CUDA_VISIBLE_DEVICES=0\n"
     ]
    }
   ],
   "source": [
    "import matplotlib.pyplot as plt\n",
    "import numpy as np\n",
    "import random\n",
    "\n",
    "%env CUDA_VISIBLE_DEVICES=0\n",
    "import torch\n",
    "import torchvision as tv\n",
    "from torchvision import datasets, transforms\n",
    "\n",
    "from torch.autograd import Variable\n",
    "import torch.nn as nn\n",
    "import torch.nn.functional as F\n",
    "\n",
    "import numpy as np\n",
    "import matplotlib.pyplot as plt\n",
    "%matplotlib inline\n",
    "\n",
    "import utils\n",
    "import math\n",
    "\n",
    "import time\n",
    "import wavio"
   ]
  },
  {
   "cell_type": "markdown",
   "metadata": {},
   "source": [
    "## Hyperparameters"
   ]
  },
  {
   "cell_type": "code",
   "execution_count": 166,
   "metadata": {},
   "outputs": [],
   "source": [
    "#set up hyperparameters, net input/output sizes, and whether the problem is compressed sensing\n",
    "\n",
    "LR = 5e-4 # learning rate\n",
    "MOM = 0.9 # momentum\n",
    "NUM_ITER = 1000 # number iterations\n",
    "WD = 1e-4 # weight decay for l2-regularization\n",
    "\n",
    "Z_NUM = 32 # input seed\n",
    "NGF = 64 # number of filters per layer\n",
    "BATCH_SIZE = 1 # batch size of gradient step\n",
    "nc = 1 #num channels in the net I/0\n",
    "\n",
    "#choose the number of samples and periods in the training waveform\n",
    "WAVE_LEN = 8192\n",
    "WAVE_RATE = 8192\n",
    "WAVE_RES = 1 #bytes per sample"
   ]
  },
  {
   "cell_type": "code",
   "execution_count": 167,
   "metadata": {},
   "outputs": [],
   "source": [
    "compressed = True\n",
    "compressed_noisy = True\n",
    "\n",
    "if compressed:\n",
    "    num_measurements = 1024\n",
    "else:\n",
    "    num_measurements = WAVE_LEN"
   ]
  },
  {
   "cell_type": "code",
   "execution_count": 168,
   "metadata": {},
   "outputs": [
    {
     "name": "stdout",
     "output_type": "stream",
     "text": [
      "On GPU:  True\n"
     ]
    }
   ],
   "source": [
    "CUDA = torch.cuda.is_available()\n",
    "print(\"On GPU: \", CUDA)\n",
    "\n",
    "#save the correct datatype depending on CPU or GPU execution\n",
    "if CUDA : \n",
    "    dtype = torch.cuda.FloatTensor  \n",
    "else:\n",
    "    dtype = torch.FloatTensor"
   ]
  },
  {
   "cell_type": "markdown",
   "metadata": {},
   "source": [
    "## Grab the training audio wave and set Net Hyperparams"
   ]
  },
  {
   "cell_type": "code",
   "execution_count": 169,
   "metadata": {},
   "outputs": [
    {
     "name": "stdout",
     "output_type": "stream",
     "text": [
      "Sampling Rate:  8192\n",
      "Num Samples:  16384\n",
      "Clip Length:  2.0\n",
      "Bits/Sample:  16\n",
      "Num Channels:  1\n"
     ]
    }
   ],
   "source": [
    "wave = wavio.read(\"sine24.wav\")\n",
    "WAVE_RATE = wave.rate\n",
    "WAVE_LEN = wave.data.shape[0]\n",
    "WAVE_RES = wave.sampwidth\n",
    "nc = wave.data.shape[1]\n",
    "y0 = wave.data\n",
    "\n",
    "print(\"Sampling Rate: \", WAVE_RATE)\n",
    "print(\"Num Samples: \", WAVE_LEN)\n",
    "print(\"Clip Length: \", round(WAVE_LEN/(1.0*WAVE_RATE), 2))\n",
    "print(\"Bits/Sample: \", 8*WAVE_RES)\n",
    "print(\"Num Channels: \", nc)"
   ]
  },
  {
   "cell_type": "markdown",
   "metadata": {},
   "source": [
    "## Define Wave Normalisation"
   ]
  },
  {
   "cell_type": "code",
   "execution_count": 170,
   "metadata": {},
   "outputs": [
    {
     "name": "stdout",
     "output_type": "stream",
     "text": [
      "Means:  [-0.5]\n",
      "STD:  [32767.5]\n"
     ]
    }
   ],
   "source": [
    "#ugly solution for maintaining wave's original image stats for normalization/renormalization \n",
    "#normalization maps wave's range: [a,b] --> [-1,1], renormalization reverses this\n",
    "def get_stats(x):\n",
    "    chans = x.shape[1]\n",
    "    \n",
    "    a = np.zeros((chans))\n",
    "    b = np.zeros((chans))\n",
    "    mu = np.zeros((chans))\n",
    "    sigma = np.zeros((chans))\n",
    "    \n",
    "    for c in range(chans):\n",
    "        a[c] = np.min(x[:,c])\n",
    "        b[c] = np.max(x[:,c])\n",
    "        mu[c] = (a+b)/2.0\n",
    "        sigma[c] = (b-a)/2.0\n",
    "    \n",
    "    return [mu, sigma]\n",
    "\n",
    "MU = get_stats(y0)[0]\n",
    "SIGMA = get_stats(y0)[1]\n",
    "\n",
    "def normalise(x, mean, std):\n",
    "    normalised = np.zeros((x.shape))\n",
    "    chans = x.shape[1]\n",
    "    \n",
    "    for c in range(chans):\n",
    "        normalised[:,c] = (x[:,c] - mean[c])/std[c]\n",
    "        \n",
    "    return normalised\n",
    "\n",
    "def renormalise(x, mean, std):\n",
    "    normalised = np.zeros((x.shape))\n",
    "    chans = x.data.shape[1]\n",
    "    \n",
    "    for c in range(chans):\n",
    "        normalised[:,c] = x[:,c] * std[c] + mean[c]\n",
    "        \n",
    "    return normalised\n",
    "\n",
    "print(\"Means: \", MU)\n",
    "print(\"STD: \", SIGMA)"
   ]
  },
  {
   "cell_type": "markdown",
   "metadata": {},
   "source": [
    "## Prepare Waveform for Training and Define Proper Loss"
   ]
  },
  {
   "cell_type": "code",
   "execution_count": 171,
   "metadata": {},
   "outputs": [],
   "source": [
    "y = normalise(y0, MU, SIGMA)\n",
    "y = torch.Tensor(y)\n",
    "y = Variable(y.type(dtype))\n",
    "\n",
    "mse = torch.nn.MSELoss().type(dtype)"
   ]
  },
  {
   "cell_type": "markdown",
   "metadata": {},
   "source": [
    "## Net Topology"
   ]
  },
  {
   "cell_type": "code",
   "execution_count": 172,
   "metadata": {},
   "outputs": [],
   "source": [
    "class DCGAN(nn.Module):\n",
    "    def __init__(self, nz, ngf=64, output_size=1024, nc=1, num_measurements=64):\n",
    "        super(DCGAN, self).__init__()\n",
    "        self.nc = nc\n",
    "        self.output_size = output_size\n",
    "\n",
    "        # Deconv Layers: (in_channels, out_channels, kernel_size, stride, padding, bias = false)\n",
    "        # Inputs: R^(N x Cin x Lin), Outputs: R^(N, Cout, Lout) s.t. Lout = (Lin - 1)*stride - 2*padding + kernel_size\n",
    "\n",
    "        self.conv1 = nn.ConvTranspose1d(nz, ngf, 4, 1, 0, bias=False)\n",
    "        self.bn1 = nn.BatchNorm1d(ngf)\n",
    "        # LAYER 1: input: (random) zϵR^(nzx1), output: x1ϵR^(64x4) (channels x length)\n",
    "\n",
    "        self.conv2 = nn.ConvTranspose1d(ngf, ngf, 6, 2, 2, bias=False)\n",
    "        self.bn2 = nn.BatchNorm1d(ngf)\n",
    "        # LAYER 2: input: x1ϵR^(64x4), output: x2ϵR^(64x8) (channels x length)\n",
    "\n",
    "        self.conv3 = nn.ConvTranspose1d(ngf, ngf, 6, 2, 2, bias=False)\n",
    "        self.bn3 = nn.BatchNorm1d(ngf)\n",
    "        # LAYER 3: input: x1ϵR^(64x8), output: x2ϵR^(64x16) (channels x length)\n",
    "\n",
    "        self.conv4 = nn.ConvTranspose1d(ngf, ngf, 6, 2, 2, bias=False)\n",
    "        self.bn4 = nn.BatchNorm1d(ngf)\n",
    "        # LAYER 4: input: x1ϵR^(64x16), output: x2ϵR^(64x32) (channels x length)\n",
    "\n",
    "        self.conv5 = nn.ConvTranspose1d(ngf, ngf, 6, 2, 2, bias=False)\n",
    "        self.bn5 = nn.BatchNorm1d(ngf)\n",
    "        # LAYER 5: input: x2ϵR^(64x32), output: x3ϵR^(64x64) (channels x length)\n",
    "\n",
    "        self.conv6 = nn.ConvTranspose1d(ngf, ngf, 6, 2, 2, bias=False)\n",
    "        self.bn6 = nn.BatchNorm1d(ngf)\n",
    "        # LAYER 6: input: x3ϵR^(64x64), output: x4ϵR^(64x128) (channels x length)\n",
    "\n",
    "        self.conv7 = nn.ConvTranspose1d(ngf, ngf, 6, 2, 2, bias=False)\n",
    "        self.bn7 = nn.BatchNorm1d(ngf)\n",
    "        # LAYER 7: input: x4ϵR^(64x128), output: x5ϵR^(64x256) (channels x length)\n",
    "\n",
    "        self.conv8 = nn.ConvTranspose1d(ngf, ngf, 6, 2, 2, bias=False)\n",
    "        self.bn8 = nn.BatchNorm1d(ngf)\n",
    "        # LAYER 8: input: x5ϵR^(64x256), output: x6ϵR^(64x512) (channels x length)\n",
    "        \n",
    "        self.conv9 = nn.ConvTranspose1d(ngf, ngf, 6, 2, 2, bias=False)\n",
    "        self.bn9 = nn.BatchNorm1d(ngf)\n",
    "        # LAYER 9: input: x5ϵR^(64x512), output: x6ϵR^(64x1024) (channels x length)\n",
    "        \n",
    "        self.conv10 = nn.ConvTranspose1d(ngf, ngf, 6, 2, 2, bias=False)\n",
    "        self.bn10 = nn.BatchNorm1d(ngf)\n",
    "        # LAYER 10: input: x5ϵR^(64x1024), output: x6ϵR^(64x2048) (channels x length)\n",
    "        \n",
    "        self.conv11 = nn.ConvTranspose1d(ngf, ngf, 6, 2, 2, bias=False)\n",
    "        self.bn11 = nn.BatchNorm1d(ngf)\n",
    "        # LAYER 11: input: x5ϵR^(64x2048), output: x6ϵR^(64x4096) (channels x length)\n",
    "        \n",
    "        self.conv12 = nn.ConvTranspose1d(ngf, ngf, 6, 2, 2, bias=False)\n",
    "        self.bn12 = nn.BatchNorm1d(ngf)\n",
    "        # LAYER 12: input: x5ϵR^(64x4096), output: x6ϵR^(64x8192) (channels x length)\n",
    "\n",
    "        self.conv13 = nn.ConvTranspose1d(ngf, nc, 4, 2, 1, bias=False)  # output is image\n",
    "        # LAYER 13: input: x6ϵR^(64x8192), output: (sinusoid) G(z,w)ϵR^(ncx16384) (channels x length)\n",
    "\n",
    "        self.fc = nn.Linear(output_size * nc, num_measurements, bias=False)  # output is A; measurement matrix\n",
    "        # each entry should be drawn from a Gaussian (random noisy measurements)\n",
    "        # don't compute gradient of self.fc! memory issues\n",
    "\n",
    "    def forward(self, x):\n",
    "        input_size = x.size()\n",
    "        x = F.relu(self.bn1(self.conv1(x)))\n",
    "        x = F.relu(self.bn2(self.conv2(x)))\n",
    "        x = F.relu(self.bn3(self.conv3(x)))\n",
    "        x = F.relu(self.bn4(self.conv4(x)))\n",
    "        x = F.relu(self.bn5(self.conv5(x)))\n",
    "        x = F.relu(self.bn6(self.conv6(x)))\n",
    "        x = F.relu(self.bn7(self.conv7(x)))\n",
    "        x = F.relu(self.bn8(self.conv8(x)))\n",
    "        x = F.relu(self.bn9(self.conv9(x)))\n",
    "        x = F.relu(self.bn10(self.conv10(x)))\n",
    "        x = F.relu(self.bn11(self.conv11(x)))\n",
    "        x = F.relu(self.bn12(self.conv12(x)))\n",
    "        x = F.tanh(self.conv13(x))\n",
    "\n",
    "        return x\n",
    "\n",
    "    def measurements(self, x):\n",
    "        # this gives the image - make it a single row vector of appropriate length\n",
    "        y = self.forward(x).view(1, -1)\n",
    "        y = y.cpu()\n",
    "\n",
    "        # pass thru FC layer - returns A*image\n",
    "        meas = self.fc(y)\n",
    "\n",
    "        if CUDA:\n",
    "            return meas.cuda()\n",
    "        else:\n",
    "            return meas"
   ]
  },
  {
   "cell_type": "markdown",
   "metadata": {},
   "source": [
    "## Set up Net Parameters"
   ]
  },
  {
   "cell_type": "code",
   "execution_count": 173,
   "metadata": {},
   "outputs": [
    {
     "name": "stdout",
     "output_type": "stream",
     "text": [
      "Execution Time:  0.2938 s\n"
     ]
    }
   ],
   "source": [
    "start = time.time()\n",
    "\n",
    "net = DCGAN(nz = Z_NUM, ngf = NGF, output_size = WAVE_LEN,nc = nc,num_measurements = num_measurements)\n",
    "net.fc.requires_grad = False\n",
    "\n",
    "if CUDA: \n",
    "    net.cuda()\n",
    "    \n",
    "# initialize fully-connected layer weights as our matrix A    \n",
    "# if compressed, A_tensor: gaussian(0,1) entries in matrix of dim'n R^(num_meas x (wave_size*num_channels)) with normalized columns\n",
    "# else, A = identity\n",
    "if compressed:\n",
    "    if compressed_noisy:\n",
    "        net.fc.weight.data = (1 / math.sqrt(1.0 * num_measurements)) * torch.randn(num_measurements, WAVE_LEN * nc) #measurement matrix is normalized gaussian R^(num_measurements, wave_size*num_channels)\n",
    "    else:\n",
    "        kept_samples = random.sample(range(0, WAVE_LEN), num_measurements) #randomly select num_measurements samples to keep\n",
    "        net.fc.weight.data = torch.eye(WAVE_LEN)[kept_samples,:] #grab rows corresponding to index of randomly kept samples from identity\n",
    "        sampled_wave = np.zeros((y0.shape))\n",
    "        sampled_wave[kept_samples,:] = y0[kept_samples,:]\n",
    "else:\n",
    "    net.fc.weight.data = torch.eye(WAVE_LEN)\n",
    "\n",
    "allparams = [x for x in net.parameters()] #specifies which to compute gradients of\n",
    "allparams = allparams[:-1] # get rid of last item in list (fc layer) because it's memory intensive\n",
    "\n",
    "# Define input seed z as Torch variable, normalize\n",
    "z = Variable(torch.zeros(BATCH_SIZE*Z_NUM).type(dtype).view(BATCH_SIZE,Z_NUM,1))\n",
    "z.data.normal_().type(dtype)\n",
    "\n",
    "# Define optimizer\n",
    "optim = torch.optim.RMSprop(allparams,lr=LR,momentum=MOM, weight_decay=WD)\n",
    "\n",
    "end = time.time()\n",
    "print(\"Execution Time: \", round(end-start, 4), \"s\")"
   ]
  },
  {
   "cell_type": "code",
   "execution_count": 174,
   "metadata": {},
   "outputs": [
    {
     "name": "stdout",
     "output_type": "stream",
     "text": [
      "torch.Size([1, 32, 1])\n",
      "torch.Size([16384, 1])\n"
     ]
    }
   ],
   "source": [
    "print(z.shape)\n",
    "print(y.shape)"
   ]
  },
  {
   "cell_type": "markdown",
   "metadata": {},
   "source": [
    "## Prepare Training Waveform for loss during Training"
   ]
  },
  {
   "cell_type": "code",
   "execution_count": 175,
   "metadata": {},
   "outputs": [
    {
     "name": "stdout",
     "output_type": "stream",
     "text": [
      "torch.Size([1, 1024])\n"
     ]
    }
   ],
   "source": [
    "# Create measurements y, move to Torch variable\n",
    "# torch.mm does matrix multiplication on a flattened row-major version of the image (R^(1)X(H*W*Ch)) and A^T (R^(H*W*Ch)X(measurements)) to produce a R^(measurements vector)\n",
    "measurements = Variable(torch.mm(y.cpu().data.view(BATCH_SIZE,-1),net.fc.weight.data.permute(1,0)),requires_grad=False) \n",
    "\n",
    "if CUDA: # move measurements to GPU if possible\n",
    "    measurements = measurements.cuda()\n",
    "    \n",
    "print(measurements.shape)"
   ]
  },
  {
   "cell_type": "markdown",
   "metadata": {},
   "source": [
    "## Train Wave while Tracking Loss"
   ]
  },
  {
   "cell_type": "code",
   "execution_count": 176,
   "metadata": {},
   "outputs": [
    {
     "name": "stdout",
     "output_type": "stream",
     "text": [
      "0\n"
     ]
    },
    {
     "name": "stderr",
     "output_type": "stream",
     "text": [
      "/home/sravula/anaconda3/lib/python3.6/site-packages/torch/nn/functional.py:995: UserWarning: nn.functional.tanh is deprecated. Use torch.tanh instead.\n",
      "  warnings.warn(\"nn.functional.tanh is deprecated. Use torch.tanh instead.\")\n"
     ]
    },
    {
     "name": "stdout",
     "output_type": "stream",
     "text": [
      "20\n",
      "40\n",
      "60\n",
      "80\n",
      "100\n",
      "120\n",
      "140\n",
      "160\n",
      "180\n",
      "200\n",
      "220\n",
      "240\n",
      "260\n",
      "280\n",
      "300\n",
      "320\n",
      "340\n",
      "360\n",
      "380\n",
      "400\n",
      "420\n",
      "440\n",
      "460\n",
      "480\n",
      "500\n",
      "520\n",
      "540\n",
      "560\n",
      "580\n",
      "600\n",
      "620\n",
      "640\n",
      "660\n",
      "680\n",
      "700\n",
      "720\n",
      "740\n",
      "760\n",
      "780\n",
      "800\n",
      "820\n",
      "840\n",
      "860\n",
      "880\n",
      "900\n",
      "920\n",
      "940\n",
      "960\n",
      "980\n",
      "Output MSE:  0.0448\n",
      "Execution Time:  56.74 s\n"
     ]
    }
   ],
   "source": [
    "# Create numpy logs to store images, MSE values (from ground truth) for each iteration\n",
    "mse_log = np.zeros((NUM_ITER))#, nc))\n",
    "best_wave = np.zeros((WAVE_LEN, nc))#, nc))\n",
    "cur_best_mse = 1e6\n",
    "cur_best_idx = 0\n",
    "\n",
    "start = time.time()\n",
    "\n",
    "for i in range(NUM_ITER):\n",
    "    optim.zero_grad() # clears graidents of all optimized variables\n",
    "    out = net(z) # produces wave (in form of data tensor) i.e. G(z,w)\n",
    "    \n",
    "    loss = mse(net.measurements(z),measurements) # calculate loss between AG(z,w) and Ay\n",
    "         \n",
    "    # DCGAN output is in [-1,1]. Renormalise to [0,1] before plotting\n",
    "    wave = out[0].detach().reshape(-1,nc).cpu()\n",
    "    wave = renormalise(wave, MU, SIGMA)\n",
    "    \n",
    "    mse_log[i] = np.mean((normalise(y0, MU, SIGMA).reshape((1, -1)) - normalise(wave, MU, SIGMA).reshape((1, -1)))**2)\n",
    "    \n",
    "    if (mse_log[i] <= cur_best_mse):\n",
    "        cur_best_idx = i\n",
    "        cur_best_mse = mse_log[i]\n",
    "        best_wave = wave\n",
    "        \n",
    "    if (i%20 == 0):\n",
    "        print(i)\n",
    "    \n",
    "    if (i == NUM_ITER-1):\n",
    "        wavio.write(\"last.wav\", wave, WAVE_RATE, sampwidth=WAVE_RES)\n",
    "    \n",
    "    loss.backward()\n",
    "    optim.step()\n",
    "    \n",
    "#calculate MSE between output wave and non-noisy original; and between noisy and original\n",
    "True_MSE = mse_log[NUM_ITER-1]\n",
    "print(\"Output MSE: \", round(True_MSE, 5))\n",
    "\n",
    "end = time.time()\n",
    "print(\"Execution Time: \", round(end-start, 2), \"s\")"
   ]
  },
  {
   "cell_type": "code",
   "execution_count": 177,
   "metadata": {},
   "outputs": [
    {
     "data": {
      "text/plain": [
       "[<matplotlib.lines.Line2D at 0x7f3b38091588>]"
      ]
     },
     "execution_count": 177,
     "metadata": {},
     "output_type": "execute_result"
    },
    {
     "data": {
      "image/png": "[encoded data removed]",
      "text/plain": [
       "<Figure size 432x288 with 1 Axes>"
      ]
     },
     "metadata": {},
     "output_type": "display_data"
    }
   ],
   "source": [
    "from matplotlib.axes import Axes\n",
    "\n",
    "itern = np.arange(NUM_ITER)\n",
    "\n",
    "plt.figure()\n",
    "plt.ylabel('MSE')\n",
    "plt.title(\"MSE vs Iterations\")\n",
    "plt.semilogy(itern, mse_log)"
   ]
  },
  {
   "cell_type": "code",
   "execution_count": 178,
   "metadata": {},
   "outputs": [
    {
     "name": "stdout",
     "output_type": "stream",
     "text": [
      "Best MSE:  4.458e-02\n",
      "Best index:  993\n"
     ]
    }
   ],
   "source": [
    "def format_e(n, dec=3, is_hparam = False): \n",
    "    a = '%E' % n\n",
    "    pre = a.split('E')[0].rstrip('0').rstrip('.')\n",
    "    pre = str(round(float(pre), dec))\n",
    "    if is_hparam == True:\n",
    "        pre = str(int(float(pre))) # get rid of decimal\n",
    "    return pre + 'e' + a.split('E')[1]\n",
    "\n",
    "print(\"Best MSE: \", str(format_e(cur_best_mse)))\n",
    "print(\"Best index: \", cur_best_idx)\n",
    "wavio.write(\"best.wav\", best_wave, WAVE_RATE, sampwidth=WAVE_RES)"
   ]
  }
 ],
 "metadata": {
  "kernelspec": {
   "display_name": "Python 3",
   "language": "python",
   "name": "python3"
  },
  "language_info": {
   "codemirror_mode": {
    "name": "ipython",
    "version": 3
   },
   "file_extension": ".py",
   "mimetype": "text/x-python",
   "name": "python",
   "nbconvert_exporter": "python",
   "pygments_lexer": "ipython3",
   "version": "3.6.5"
  }
 },
 "nbformat": 4,
 "nbformat_minor": 2
}
