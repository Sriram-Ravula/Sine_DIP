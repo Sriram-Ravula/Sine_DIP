{
 "cells": [
  {
   "cell_type": "code",
   "execution_count": 102,
   "metadata": {},
   "outputs": [
    {
     "name": "stdout",
     "output_type": "stream",
     "text": [
      "env: CUDA_VISIBLE_DEVICES=0\n"
     ]
    }
   ],
   "source": [
    "%env CUDA_VISIBLE_DEVICES=0\n",
    "import torch\n",
    "import numpy as np\n",
    "import random\n",
    "\n",
    "import matplotlib.pyplot as plt\n",
    "%matplotlib inline\n",
    "\n",
    "import math"
   ]
  },
  {
   "cell_type": "markdown",
   "metadata": {},
   "source": [
    "# Set up Cuda"
   ]
  },
  {
   "cell_type": "code",
   "execution_count": 103,
   "metadata": {},
   "outputs": [
    {
     "name": "stdout",
     "output_type": "stream",
     "text": [
      "True\n",
      "<torch.cuda.device object at 0x7f741896f278>\n"
     ]
    }
   ],
   "source": [
    "CUDA = torch.cuda.is_available()\n",
    "#CUDA = False\n",
    "print(CUDA)\n",
    "\n",
    "#save the correct datatype depending on CPU or GPU execution\n",
    "if CUDA : \n",
    "    dtype = torch.cuda.FloatTensor  \n",
    "    print(torch.cuda.device(0))\n",
    "else:\n",
    "    dtype = torch.FloatTensor\n",
    "    print(\"NO DEVICES\")"
   ]
  },
  {
   "cell_type": "markdown",
   "metadata": {},
   "source": [
    "# Define functions to generate and check learning parameters"
   ]
  },
  {
   "cell_type": "code",
   "execution_count": 104,
   "metadata": {},
   "outputs": [],
   "source": [
    "#Given desired output length, filter length, latent input length, and stride - check if the params are valid\n",
    "def check_params(out_len, filt_len, in_len, stride):\n",
    "    n_true = (in_len - 1)*stride + filt_len\n",
    "    f_true = out_len - (in_len - 1)*stride\n",
    "    k_true = (out_len - filt_len)/stride + 1\n",
    "    s_true = (out_len - filt_len)/(in_len - 1)\n",
    "    \n",
    "    if(not (isinstance(out_len, int) and isinstance(filt_len, int) and isinstance(in_len, int) and isinstance(stride, int))):\n",
    "        return False\n",
    "    \n",
    "    if(out_len != n_true or filt_len != f_true or in_len != k_true or not k_true.is_integer() or not s_true.is_integer()):\n",
    "        return False\n",
    "    \n",
    "    return True\n",
    "\n",
    "#get stride given three other parameters; returns -1 if input is an invalid combo\n",
    "def get_s(out_len, filt_len, in_len):\n",
    "    if(not (isinstance(out_len, int) and isinstance(filt_len, int) and isinstance(in_len, int))):\n",
    "        return -1\n",
    "    \n",
    "    stride = (out_len - filt_len)/(in_len - 1)\n",
    "    \n",
    "    if(not stride.is_integer()):\n",
    "        return -1\n",
    "    \n",
    "    return int(stride)\n",
    "\n",
    "#get latent input length given three other parameters; returns -1 if input is an invalid combo\n",
    "def get_k(out_len, filt_len, stride):\n",
    "    if(not (isinstance(out_len, int) and isinstance(filt_len, int) and isinstance(stride, int))):\n",
    "        return -1\n",
    "    \n",
    "    in_len = (out_len - filt_len)/stride + 1\n",
    "    \n",
    "    if(not in_len.is_integer()):\n",
    "        return -1\n",
    "    \n",
    "    return int(in_len)\n",
    "\n",
    "#get filter length given three other parameters; returns -1 if input is an invalid combo\n",
    "def get_f(out_len, in_len, stride):\n",
    "    if(not (isinstance(out_len, int) and isinstance(in_len, int) and isinstance(stride, int))):\n",
    "        return -1\n",
    "    \n",
    "    filt_len = out_len - (in_len - 1)*stride\n",
    "    \n",
    "    return filt_len\n",
    "\n",
    "#get output length given three other parameters; returns -1 if input is an invalid combo\n",
    "def get_n(filt_len, in_len, stride):\n",
    "    if(not (isinstance(filt_len, int) and isinstance(in_len, int) and isinstance(stride, int))):\n",
    "        return -1\n",
    "    \n",
    "    out_len = (in_len - 1)*stride + filt_len\n",
    "    \n",
    "    return out_len"
   ]
  },
  {
   "cell_type": "markdown",
   "metadata": {},
   "source": [
    "# Define parameters and check the generator functions"
   ]
  },
  {
   "cell_type": "code",
   "execution_count": 113,
   "metadata": {},
   "outputs": [
    {
     "name": "stdout",
     "output_type": "stream",
     "text": [
      "True\n",
      "True\n",
      "True\n",
      "True\n",
      "True\n"
     ]
    }
   ],
   "source": [
    "#define output len, filter len, input len, and stride\n",
    "n = 64\n",
    "f = 16 \n",
    "k = 4\n",
    "s = 16\n",
    "\n",
    "#check if the params are valid - should return true\n",
    "print(check_params(n,f,k,s))\n",
    "\n",
    "print(get_n(f,k,s) == n)\n",
    "print(get_f(n,k,s) == f)\n",
    "print(get_k(n,f,s) == k)\n",
    "print(get_s(n,f,k) == s)"
   ]
  },
  {
   "cell_type": "markdown",
   "metadata": {},
   "source": [
    "# Define functions to generate the weight vector and Data matrix"
   ]
  },
  {
   "cell_type": "code",
   "execution_count": 106,
   "metadata": {},
   "outputs": [],
   "source": [
    "#generate a weight vector made by concatenating nc vectors of length f vertically, initiliazed with N(0,1) weights\n",
    "def gen_weights(f, nc, cuda):\n",
    "    weights = torch.zeros((f*nc))\n",
    "    weights.data.normal_(0, 1)\n",
    "    \n",
    "    if(cuda):\n",
    "        weights = weights.cuda()\n",
    "    \n",
    "    return weights\n",
    "\n",
    "#generate a single strided block of latent input - contains k N(0,1) entries with (s-1) zeros between each entry\n",
    "def gen_z_block(k, s, cuda):\n",
    "    z = torch.zeros(k)\n",
    "    z.data.normal_(0, 1)\n",
    "    \n",
    "    if(cuda):\n",
    "        z = z.cuda()\n",
    "\n",
    "    z_strided = torch.zeros((k - 1)*s + 1)\n",
    "\n",
    "    if(cuda):\n",
    "        z_strided = z_strided.cuda()\n",
    "\n",
    "    inds = [i*s for i in range(k)]\n",
    "\n",
    "    z_strided[inds] = z\n",
    "    \n",
    "    return z_strided\n",
    "\n",
    "#generate a (n,f) latent input matrix for one channel - contains a strided z block shifted down one row in each column \n",
    "def gen_z_mat(n, f, k, s, cuda):\n",
    "    z_block = gen_z_block(k, s, cuda)\n",
    "    block_len = list(z_block.shape)[0]\n",
    "    \n",
    "    z_mat = torch.zeros((n, f))\n",
    "    \n",
    "    if(cuda):\n",
    "        z_mat = z_mat.cuda()\n",
    "    \n",
    "    for i in range(f):\n",
    "        z_mat[i:block_len + i, i] = z_block\n",
    "        \n",
    "    return z_mat\n",
    "\n",
    "#generate a Z matrix used as Data in linear regression, made by concatenating nc latent input matrices horizontally \n",
    "def gen_z_data(n, f, k, s, nc, cuda):\n",
    "    z_latent = torch.zeros((n, f*nc))\n",
    "    \n",
    "    if(cuda):\n",
    "        z_latent = z_latent.cuda()\n",
    "    \n",
    "    for i in range(nc):\n",
    "        z_latent[:, i*f:i*f+f] = gen_z_mat(n, f, k, s, cuda)\n",
    "    \n",
    "    return z_latent"
   ]
  },
  {
   "cell_type": "markdown",
   "metadata": {},
   "source": [
    "# Check the generator functions"
   ]
  },
  {
   "cell_type": "code",
   "execution_count": 114,
   "metadata": {},
   "outputs": [
    {
     "name": "stdout",
     "output_type": "stream",
     "text": [
      "tensor([-1.0606,  0.8487, -0.5291,  0.3514, -0.6131, -0.6443, -1.6613, -1.2940,\n",
      "         1.0743,  0.1112,  0.6784,  0.9076, -0.7647, -0.6010,  0.6893, -0.5175,\n",
      "         0.4135, -0.1370, -0.9813, -1.7621, -0.6678,  0.0722, -0.5836,  0.9547,\n",
      "         0.0043,  0.9957,  0.4582,  1.2095, -1.0377,  0.1580,  0.1012,  0.6791,\n",
      "        -1.8567, -0.9362, -0.5805,  0.8893, -0.6429,  0.5233,  1.9785,  0.6713,\n",
      "         0.9757,  1.1859,  0.2696,  1.5320,  0.8294,  1.7260, -1.4400,  0.5657,\n",
      "        -1.8692,  0.2798,  0.8960,  0.8078, -2.1038, -2.0056, -1.0441,  0.7216,\n",
      "        -2.3578,  0.4700,  0.1159, -1.0984, -0.3233,  0.7112,  1.0099,  0.2984,\n",
      "        -0.4572, -0.0944,  0.2784,  0.3725, -1.0160,  1.2638,  1.2623, -0.8609,\n",
      "         0.0240, -0.1969, -0.2635, -0.9845, -0.0406,  0.6944, -1.7225, -1.8552,\n",
      "        -1.1180,  0.4245, -0.3579,  0.5210, -0.0419, -1.2357, -0.5031, -0.0880,\n",
      "         0.7638,  1.1744,  0.1812, -1.9636, -1.1224, -0.0105, -0.5593, -1.3795,\n",
      "         1.3918,  0.6466, -1.5130,  1.7864, -0.1579, -0.3450, -1.0075,  0.8632,\n",
      "        -1.0206, -0.0394,  0.1342, -0.7072, -0.1733,  0.4633, -0.5870,  0.3156,\n",
      "        -1.1083,  0.2763, -0.3324,  0.0227,  0.3975,  0.4450, -0.5449, -0.4911,\n",
      "         0.0752,  0.9949,  0.0571,  1.7594,  0.4489, -0.2579, -0.3032, -0.3279,\n",
      "        -0.4448, -1.2228,  1.2282, -0.6163,  0.4949, -1.1160,  1.7524,  0.4330,\n",
      "        -2.3770,  1.2882, -0.0794, -0.3922,  1.0682,  1.0633,  0.0941,  0.3738,\n",
      "         0.1577, -0.2285,  1.4953, -0.0678, -0.3907,  2.1105,  0.7342, -1.2444,\n",
      "        -0.2570, -1.1595, -0.7745,  1.2124, -1.2876,  1.1801, -1.2472,  0.6514],\n",
      "       device='cuda:0')\n",
      "tensor([[ 1.0156,  0.0000,  0.0000,  ...,  0.0000,  0.0000,  0.0000],\n",
      "        [ 0.0000,  1.0156,  0.0000,  ...,  0.0000,  0.0000,  0.0000],\n",
      "        [ 0.0000,  0.0000,  1.0156,  ...,  0.0000,  0.0000,  0.0000],\n",
      "        ...,\n",
      "        [ 0.0000,  0.0000,  0.0000,  ..., -0.6520,  0.0000,  0.0000],\n",
      "        [ 0.0000,  0.0000,  0.0000,  ...,  0.0000, -0.6520,  0.0000],\n",
      "        [ 0.0000,  0.0000,  0.0000,  ...,  0.0000,  0.0000, -0.6520]],\n",
      "       device='cuda:0')\n"
     ]
    }
   ],
   "source": [
    "#set the number of channels\n",
    "nc = 10\n",
    "\n",
    "#generate the weights and data matrix (Z) to be used in linear regression\n",
    "weights = gen_weights(f, nc, CUDA)\n",
    "Z = gen_z_data(n, f, k, s, nc, CUDA)\n",
    "\n",
    "print(weights)\n",
    "print(Z)"
   ]
  },
  {
   "cell_type": "markdown",
   "metadata": {},
   "source": [
    "# Define gradient function"
   ]
  },
  {
   "cell_type": "code",
   "execution_count": 108,
   "metadata": {},
   "outputs": [],
   "source": [
    "def get_gradient(y, Z, w):\n",
    "    return torch.matmul(Z.t(), y) - torch.matmul(torch.matmul(Z.t(), Z), w)"
   ]
  },
  {
   "cell_type": "markdown",
   "metadata": {},
   "source": [
    "# Define Gradient Descent"
   ]
  },
  {
   "cell_type": "code",
   "execution_count": 109,
   "metadata": {},
   "outputs": [],
   "source": [
    "#given target signal y, data Z, weights w, stepsize, and number of iterations, perform gradient descent for linear regression on w \n",
    "#optionally can choose to log the MSE of each iterative solution\n",
    "def gradient_descent(y, Z, w, stepsize, num_iter, log = False):\n",
    "    w_t = w\n",
    "    \n",
    "    if(log):\n",
    "        mse = torch.nn.MSELoss().type(dtype)\n",
    "        mse_log = torch.zeros((num_iter))\n",
    "    \n",
    "    for i in range(num_iter):\n",
    "        w_t = w_t + stepsize*get_gradient(y, Z, w_t)\n",
    "        \n",
    "        if(log):\n",
    "            mse_log[i] = mse(y, torch.matmul(Z, w_t))\n",
    "    \n",
    "    if(log):\n",
    "        return (w_t, mse_log)\n",
    "    \n",
    "    return w_t"
   ]
  },
  {
   "cell_type": "markdown",
   "metadata": {},
   "source": [
    "# Create Target"
   ]
  },
  {
   "cell_type": "code",
   "execution_count": 110,
   "metadata": {},
   "outputs": [
    {
     "data": {
      "image/png": "[encoded data removed]",
      "text/plain": [
       "<Figure size 432x288 with 1 Axes>"
      ]
     },
     "metadata": {
      "needs_background": "light"
     },
     "output_type": "display_data"
    }
   ],
   "source": [
    "X_OUTPUT = np.arange(n)\n",
    "\n",
    "#y0 = np.sin(2 * np.pi *X_OUTPUT / n) + 0.25 * np.random.randn(n)\n",
    "y0 = 0.25 * np.random.randn(n)\n",
    "y = torch.tensor(y0).type(dtype)\n",
    "\n",
    "if(CUDA):\n",
    "    y = y.cuda()\n",
    "\n",
    "plt.figure()\n",
    "plt.plot(X_OUTPUT, y0)\n",
    "plt.show()"
   ]
  },
  {
   "cell_type": "markdown",
   "metadata": {},
   "source": [
    "# Perform Linear Regression"
   ]
  },
  {
   "cell_type": "code",
   "execution_count": 111,
   "metadata": {},
   "outputs": [],
   "source": [
    "stepsize = 1e-3\n",
    "NUM_ITER = 100\n",
    "\n",
    "weights, log = gradient_descent(y, Z, weights, stepsize, NUM_ITER, True)"
   ]
  },
  {
   "cell_type": "code",
   "execution_count": 112,
   "metadata": {},
   "outputs": [
    {
     "data": {
      "image/png": "[encoded data removed]",
      "text/plain": [
       "<Figure size 432x288 with 1 Axes>"
      ]
     },
     "metadata": {
      "needs_background": "light"
     },
     "output_type": "display_data"
    }
   ],
   "source": [
    "plt.figure()\n",
    "plt.plot(range(NUM_ITER), log.cpu().numpy())\n",
    "plt.show()"
   ]
  }
 ],
 "metadata": {
  "kernelspec": {
   "display_name": "Python 3",
   "language": "python",
   "name": "python3"
  },
  "language_info": {
   "codemirror_mode": {
    "name": "ipython",
    "version": 3
   },
   "file_extension": ".py",
   "mimetype": "text/x-python",
   "name": "python",
   "nbconvert_exporter": "python",
   "pygments_lexer": "ipython3",
   "version": "3.7.3"
  }
 },
 "nbformat": 4,
 "nbformat_minor": 2
}
