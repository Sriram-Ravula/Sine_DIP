{
 "cells": [
  {
   "cell_type": "code",
   "execution_count": 377,
   "metadata": {},
   "outputs": [
    {
     "name": "stdout",
     "output_type": "stream",
     "text": [
      "env: CUDA_VISIBLE_DEVICES=0\n"
     ]
    }
   ],
   "source": [
    "%env CUDA_VISIBLE_DEVICES=0\n",
    "import torch\n",
    "import numpy as np\n",
    "import random\n",
    "\n",
    "import matplotlib.pyplot as plt\n",
    "%matplotlib inline\n",
    "\n",
    "import math"
   ]
  },
  {
   "cell_type": "markdown",
   "metadata": {},
   "source": [
    "# Set up Cuda"
   ]
  },
  {
   "cell_type": "code",
   "execution_count": 378,
   "metadata": {},
   "outputs": [
    {
     "name": "stdout",
     "output_type": "stream",
     "text": [
      "True\n",
      "<torch.cuda.device object at 0x00000266184A2208>\n"
     ]
    }
   ],
   "source": [
    "CUDA = torch.cuda.is_available()\n",
    "#CUDA = False\n",
    "print(CUDA)\n",
    "\n",
    "#save the correct datatype depending on CPU or GPU execution\n",
    "if CUDA : \n",
    "    dtype = torch.cuda.FloatTensor  \n",
    "    print(torch.cuda.device(0))\n",
    "else:\n",
    "    dtype = torch.FloatTensor\n",
    "    print(\"NO DEVICES\")"
   ]
  },
  {
   "cell_type": "markdown",
   "metadata": {},
   "source": [
    "# Define functions to generate and check learning parameters"
   ]
  },
  {
   "cell_type": "code",
   "execution_count": 379,
   "metadata": {},
   "outputs": [],
   "source": [
    "def check_params(out_len, filt_len, in_len, stride):\n",
    "    n_true = (in_len - 1)*stride + filt_len\n",
    "    f_true = out_len - (in_len - 1)*stride\n",
    "    k_true = (out_len - filt_len)/stride + 1\n",
    "    s_true = (out_len - filt_len)/(in_len - 1)\n",
    "    \n",
    "    if(not (isinstance(out_len, int) and isinstance(filt_len, int) and isinstance(in_len, int) and isinstance(stride, int))):\n",
    "        return False\n",
    "    \n",
    "    if(out_len != n_true or filt_len != f_true or in_len != k_true or not k_true.is_integer() or not s_true.is_integer()):\n",
    "        return False\n",
    "    \n",
    "    return True\n",
    "\n",
    "#get stride given three other parameters; returns -1 if input is an invalid combo\n",
    "def get_s(out_len, filt_len, in_len):\n",
    "    if(not (isinstance(out_len, int) and isinstance(filt_len, int) and isinstance(in_len, int))):\n",
    "        return -1\n",
    "    \n",
    "    stride = (out_len - filt_len)/(in_len - 1)\n",
    "    \n",
    "    if(not stride.is_integer()):\n",
    "        return -1\n",
    "    \n",
    "    return int(stride)\n",
    "\n",
    "def get_k(out_len, filt_len, stride):\n",
    "    if(not (isinstance(out_len, int) and isinstance(filt_len, int) and isinstance(stride, int))):\n",
    "        return -1\n",
    "    \n",
    "    in_len = (out_len - filt_len)/stride + 1\n",
    "    \n",
    "    if(not in_len.is_integer()):\n",
    "        return -1\n",
    "    \n",
    "    return int(in_len)\n",
    "\n",
    "def get_f(out_len, in_len, stride):\n",
    "    if(not (isinstance(out_len, int) and isinstance(in_len, int) and isinstance(stride, int))):\n",
    "        return -1\n",
    "    \n",
    "    filt_len = out_len - (in_len - 1)*stride\n",
    "    \n",
    "    return filt_len\n",
    "\n",
    "def get_n(filt_len, in_len, stride):\n",
    "    if(not (isinstance(filt_len, int) and isinstance(in_len, int) and isinstance(stride, int))):\n",
    "        return -1\n",
    "    \n",
    "    out_len = (in_len - 1)*stride + filt_len\n",
    "    \n",
    "    return out_len"
   ]
  },
  {
   "cell_type": "markdown",
   "metadata": {},
   "source": [
    "# Check the generator functions"
   ]
  },
  {
   "cell_type": "code",
   "execution_count": 380,
   "metadata": {},
   "outputs": [
    {
     "name": "stdout",
     "output_type": "stream",
     "text": [
      "True\n"
     ]
    }
   ],
   "source": [
    "n = 64\n",
    "f = 16\n",
    "k = 4\n",
    "s = 16\n",
    "\n",
    "print(check_params(n,f,k,s))\n",
    "\n",
    "#print(get_n(f,k,s) == 6)\n",
    "#print(get_f(n,k,s) == 2)\n",
    "#print(get_k(n,f,s) == 3)\n",
    "#print(get_s(n,f,k) == 2)"
   ]
  },
  {
   "cell_type": "markdown",
   "metadata": {},
   "source": [
    "# Define functions to generate the weight vector and latent matrix"
   ]
  },
  {
   "cell_type": "code",
   "execution_count": 381,
   "metadata": {},
   "outputs": [],
   "source": [
    "def gen_weights(f, nc, cuda):\n",
    "    weights = torch.zeros((f*nc))\n",
    "    weights.data.normal_(0, 1)\n",
    "    \n",
    "    if(cuda):\n",
    "        weights = weights.cuda()\n",
    "    \n",
    "    return weights\n",
    "\n",
    "def gen_z_block(k, s, cuda):\n",
    "    z = torch.zeros(k)\n",
    "    z.data.normal_(0, 1)\n",
    "    \n",
    "    if(cuda):\n",
    "        z = z.cuda()\n",
    "\n",
    "    z_strided = torch.zeros((k - 1)*s + 1)\n",
    "\n",
    "    if(cuda):\n",
    "        z_strided = z_strided.cuda()\n",
    "\n",
    "    inds = [i*s for i in range(k)]\n",
    "\n",
    "    z_strided[inds] = z\n",
    "    \n",
    "    return z_strided\n",
    "\n",
    "def gen_z_mat(n, f, k, s, cuda):\n",
    "    z_block = gen_z_block(k, s, cuda)\n",
    "    block_len = list(z_block.shape)[0]\n",
    "    \n",
    "    z_mat = torch.zeros((n, f))\n",
    "    \n",
    "    if(cuda):\n",
    "        z_mat = z_mat.cuda()\n",
    "    \n",
    "    for i in range(f):\n",
    "        z_mat[i:block_len + i, i] = z_block\n",
    "        \n",
    "    return z_mat\n",
    "\n",
    "def gen_z_latent(n, f, k, s, nc, cuda):\n",
    "    z_latent = torch.zeros((n, f*nc))\n",
    "    \n",
    "    if(cuda):\n",
    "        z_latent = z_latent.cuda()\n",
    "    \n",
    "    for i in range(nc):\n",
    "        z_latent[:, i*f:i*f+f] = gen_z_mat(n, f, k, s, cuda)\n",
    "    \n",
    "    return z_latent"
   ]
  },
  {
   "cell_type": "markdown",
   "metadata": {},
   "source": [
    "# Check the generator functions"
   ]
  },
  {
   "cell_type": "code",
   "execution_count": 382,
   "metadata": {},
   "outputs": [
    {
     "name": "stdout",
     "output_type": "stream",
     "text": [
      "tensor([-0.0561,  0.3410,  0.8746,  0.7644,  0.0110, -0.2476,  0.2393,  0.9917,\n",
      "         0.2163, -0.0198,  0.8652,  1.0348, -0.3928,  1.1703, -0.7434, -0.1768,\n",
      "         0.2019,  0.2613,  0.2390, -0.0534, -1.5325, -1.7040, -1.7024, -0.7805,\n",
      "         1.5660, -1.0356,  0.8549, -1.3768, -0.1456, -1.7905, -1.1779,  0.5389,\n",
      "         0.6944,  2.9353, -0.1427,  2.1912,  0.8235,  0.0298, -1.5826,  0.0825,\n",
      "         1.1240, -2.0726,  0.1222, -1.6173,  0.3572,  0.4242,  0.6117, -0.3860,\n",
      "        -0.3300, -0.7765, -0.5646, -0.4263, -0.1650,  1.1695,  2.3922,  0.4067,\n",
      "        -1.8787,  0.3087, -2.1572, -0.7434, -1.2416,  0.4673,  0.9798,  1.0427,\n",
      "        -2.3093,  0.7449, -1.0321,  1.9203,  0.5577, -0.5337, -2.3138,  0.4987,\n",
      "        -0.7548, -0.2333,  0.9150,  0.5868, -0.4215, -0.6239, -0.6837, -1.3550,\n",
      "        -1.1119, -1.5555, -0.4381,  0.9369,  0.4817, -1.5611,  0.3611, -0.0301,\n",
      "         1.1830, -0.7646,  1.0638, -0.8885,  0.4212,  1.3436, -0.3628,  0.1898,\n",
      "         0.7106,  0.1499,  0.7423,  1.7537, -0.2200,  0.4968,  1.0197, -0.6240,\n",
      "        -0.5355,  0.1162, -0.1488, -0.2554,  1.4176, -0.2404, -0.9844,  1.2215,\n",
      "         0.9145,  0.1488, -0.0476, -1.7583, -0.5577,  1.6628,  0.4877, -1.8609,\n",
      "        -0.4972,  0.9547,  0.6339,  0.2514,  0.0694, -0.3116, -1.3824,  2.1513,\n",
      "        -0.2161,  1.1634, -0.5800,  0.3089, -0.4954, -0.3502, -1.9299,  1.2824,\n",
      "         0.4595, -0.3551, -0.4491,  0.7210, -1.4135, -0.5679,  2.6905,  0.9206,\n",
      "         0.5673,  0.2988,  0.9943,  0.8704,  0.7264,  0.7094,  1.0875,  0.8633,\n",
      "        -0.8777, -0.8563,  0.6316, -1.0011, -0.7430,  0.0439, -1.5910, -0.3108],\n",
      "       device='cuda:0')\n",
      "tensor([-0.3980,  0.0000,  0.0000,  0.0000,  0.0000,  0.0000,  0.0000,  0.0000,\n",
      "         0.0000,  0.0000,  0.0000,  0.0000,  0.0000,  0.0000,  0.0000,  0.0000,\n",
      "         0.5223,  0.0000,  0.0000,  0.0000,  0.0000,  0.0000,  0.0000,  0.0000,\n",
      "         0.0000,  0.0000,  0.0000,  0.0000,  0.0000,  0.0000,  0.0000,  0.0000,\n",
      "         0.4504,  0.0000,  0.0000,  0.0000,  0.0000,  0.0000,  0.0000,  0.0000,\n",
      "         0.0000,  0.0000,  0.0000,  0.0000,  0.0000,  0.0000,  0.0000,  0.0000,\n",
      "        -1.5452], device='cuda:0')\n",
      "tensor([[0.7189, 0.0000, 0.0000,  ..., 0.0000, 0.0000, 0.0000],\n",
      "        [0.0000, 0.7189, 0.0000,  ..., 0.0000, 0.0000, 0.0000],\n",
      "        [0.0000, 0.0000, 0.7189,  ..., 0.0000, 0.0000, 0.0000],\n",
      "        ...,\n",
      "        [0.0000, 0.0000, 0.0000,  ..., 0.3376, 0.0000, 0.0000],\n",
      "        [0.0000, 0.0000, 0.0000,  ..., 0.0000, 0.3376, 0.0000],\n",
      "        [0.0000, 0.0000, 0.0000,  ..., 0.0000, 0.0000, 0.3376]],\n",
      "       device='cuda:0')\n",
      "tensor([[-0.0875,  0.0000,  0.0000,  ...,  0.0000,  0.0000,  0.0000],\n",
      "        [ 0.0000, -0.0875,  0.0000,  ...,  0.0000,  0.0000,  0.0000],\n",
      "        [ 0.0000,  0.0000, -0.0875,  ...,  0.0000,  0.0000,  0.0000],\n",
      "        ...,\n",
      "        [ 0.0000,  0.0000,  0.0000,  ...,  1.1025,  0.0000,  0.0000],\n",
      "        [ 0.0000,  0.0000,  0.0000,  ...,  0.0000,  1.1025,  0.0000],\n",
      "        [ 0.0000,  0.0000,  0.0000,  ...,  0.0000,  0.0000,  1.1025]],\n",
      "       device='cuda:0')\n"
     ]
    }
   ],
   "source": [
    "nc = 10\n",
    "\n",
    "weights = gen_weights(f, nc, CUDA)\n",
    "z_block = gen_z_block(k, s, CUDA)\n",
    "z_mat = gen_z_mat(n, f, k, s, CUDA)\n",
    "Z = gen_z_latent(n, f, k, s, nc, CUDA)\n",
    "\n",
    "print(weights)\n",
    "print(z_block)\n",
    "print(z_mat)\n",
    "print(Z)"
   ]
  },
  {
   "cell_type": "markdown",
   "metadata": {},
   "source": [
    "# Define gradient function"
   ]
  },
  {
   "cell_type": "code",
   "execution_count": 383,
   "metadata": {},
   "outputs": [],
   "source": [
    "def get_gradient(y, Z, w):\n",
    "    return torch.matmul(Z.t(), y) - torch.matmul(torch.matmul(Z.t(), Z), w)"
   ]
  },
  {
   "cell_type": "markdown",
   "metadata": {},
   "source": [
    "# Define Gradient Descent"
   ]
  },
  {
   "cell_type": "code",
   "execution_count": 384,
   "metadata": {},
   "outputs": [],
   "source": [
    "def gradient_descent(y, Z, w, stepsize, num_iter, log = False):\n",
    "    w_t = w\n",
    "    \n",
    "    if(log):\n",
    "        mse = torch.nn.MSELoss().type(dtype)\n",
    "        mse_log = torch.zeros((num_iter))\n",
    "    \n",
    "    for i in range(num_iter):\n",
    "        w_t = w_t + stepsize*get_gradient(y, Z, w_t)\n",
    "        \n",
    "        if(log):\n",
    "            mse_log[i] = mse(y, torch.matmul(Z, w_t))\n",
    "    \n",
    "    if(log):\n",
    "        return (w_t, mse_log)\n",
    "    \n",
    "    return w_t"
   ]
  },
  {
   "cell_type": "markdown",
   "metadata": {},
   "source": [
    "# Create Target"
   ]
  },
  {
   "cell_type": "code",
   "execution_count": 385,
   "metadata": {},
   "outputs": [
    {
     "data": {
      "image/png": "[encoded data removed]",
      "text/plain": [
       "<Figure size 432x288 with 1 Axes>"
      ]
     },
     "metadata": {},
     "output_type": "display_data"
    }
   ],
   "source": [
    "X_OUTPUT = np.arange(n)\n",
    "\n",
    "#y0 = np.sin(2 * np.pi *X_OUTPUT / n) + 0.25 * np.random.randn(n)\n",
    "y0 = 0.25 * np.random.randn(n)\n",
    "y = torch.tensor(y0).type(dtype)\n",
    "\n",
    "if(CUDA):\n",
    "    y = y.cuda()\n",
    "\n",
    "plt.figure()\n",
    "plt.plot(X_OUTPUT, y0)\n",
    "plt.show()"
   ]
  },
  {
   "cell_type": "markdown",
   "metadata": {},
   "source": [
    "# Perform Linear Regression"
   ]
  },
  {
   "cell_type": "code",
   "execution_count": 386,
   "metadata": {},
   "outputs": [],
   "source": [
    "stepsize = 1e-3\n",
    "NUM_ITER = 500\n",
    "\n",
    "weights, log = gradient_descent(y, Z, weights, stepsize, NUM_ITER, True)"
   ]
  },
  {
   "cell_type": "code",
   "execution_count": 387,
   "metadata": {},
   "outputs": [
    {
     "data": {
      "image/png": "[encoded data removed]",
      "text/plain": [
       "<Figure size 432x288 with 1 Axes>"
      ]
     },
     "metadata": {},
     "output_type": "display_data"
    }
   ],
   "source": [
    "plt.figure()\n",
    "plt.plot(range(NUM_ITER), log.cpu().numpy())\n",
    "plt.show()"
   ]
  }
 ],
 "metadata": {
  "kernelspec": {
   "display_name": "Python 3",
   "language": "python",
   "name": "python3"
  },
  "language_info": {
   "codemirror_mode": {
    "name": "ipython",
    "version": 3
   },
   "file_extension": ".py",
   "mimetype": "text/x-python",
   "name": "python",
   "nbconvert_exporter": "python",
   "pygments_lexer": "ipython3",
   "version": "3.6.5"
  }
 },
 "nbformat": 4,
 "nbformat_minor": 2
}
