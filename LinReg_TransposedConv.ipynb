{
 "cells": [
  {
   "cell_type": "code",
   "execution_count": 375,
   "metadata": {},
   "outputs": [
    {
     "name": "stdout",
     "output_type": "stream",
     "text": [
      "env: CUDA_VISIBLE_DEVICES=0\n"
     ]
    }
   ],
   "source": [
    "%env CUDA_VISIBLE_DEVICES=0\n",
    "import torch\n",
    "import numpy as np\n",
    "import random\n",
    "\n",
    "import matplotlib.pyplot as plt\n",
    "%matplotlib inline\n",
    "\n",
    "import math"
   ]
  },
  {
   "cell_type": "markdown",
   "metadata": {},
   "source": [
    "# Set up Cuda"
   ]
  },
  {
   "cell_type": "code",
   "execution_count": 376,
   "metadata": {},
   "outputs": [
    {
     "name": "stdout",
     "output_type": "stream",
     "text": [
      "False\n",
      "NO DEVICES\n"
     ]
    }
   ],
   "source": [
    "CUDA = torch.cuda.is_available()\n",
    "#CUDA = False\n",
    "print(CUDA)\n",
    "\n",
    "#save the correct datatype depending on CPU or GPU execution\n",
    "if CUDA : \n",
    "    dtype = torch.cuda.FloatTensor  \n",
    "    print(torch.cuda.device(0))\n",
    "else:\n",
    "    dtype = torch.FloatTensor\n",
    "    print(\"NO DEVICES\")"
   ]
  },
  {
   "cell_type": "markdown",
   "metadata": {},
   "source": [
    "# Define functions to generate and check learning parameters"
   ]
  },
  {
   "cell_type": "code",
   "execution_count": 377,
   "metadata": {
    "collapsed": true
   },
   "outputs": [],
   "source": [
    "#Given desired output length, filter length, latent input length, and stride - check if the params are valid\n",
    "def check_params(out_len, filt_len, in_len, stride):\n",
    "    n_true = (in_len - 1)*stride + filt_len\n",
    "    f_true = out_len - (in_len - 1)*stride\n",
    "    k_true = (out_len - filt_len)/stride + 1\n",
    "    s_true = (out_len - filt_len)/(in_len - 1)\n",
    "    \n",
    "    if(not (isinstance(out_len, int) and isinstance(filt_len, int) and isinstance(in_len, int) and isinstance(stride, int))):\n",
    "        return False\n",
    "    \n",
    "    if(out_len != n_true or filt_len != f_true or in_len != k_true or not k_true.is_integer() or not s_true.is_integer()):\n",
    "        return False\n",
    "    \n",
    "    return True\n",
    "\n",
    "#get stride given three other parameters; returns -1 if input is an invalid combo\n",
    "def get_s(out_len, filt_len, in_len):\n",
    "    if(not (isinstance(out_len, int) and isinstance(filt_len, int) and isinstance(in_len, int))):\n",
    "        return -1\n",
    "    \n",
    "    stride = (out_len - filt_len)/(in_len - 1)\n",
    "    \n",
    "    if(not stride.is_integer()):\n",
    "        return -1\n",
    "    \n",
    "    return int(stride)\n",
    "\n",
    "#get latent input length given three other parameters; returns -1 if input is an invalid combo\n",
    "def get_k(out_len, filt_len, stride):\n",
    "    if(not (isinstance(out_len, int) and isinstance(filt_len, int) and isinstance(stride, int))):\n",
    "        return -1\n",
    "    \n",
    "    in_len = (out_len - filt_len)/stride + 1\n",
    "    \n",
    "    if(not in_len.is_integer()):\n",
    "        return -1\n",
    "    \n",
    "    return int(in_len)\n",
    "\n",
    "#get filter length given three other parameters; returns -1 if input is an invalid combo\n",
    "def get_f(out_len, in_len, stride):\n",
    "    if(not (isinstance(out_len, int) and isinstance(in_len, int) and isinstance(stride, int))):\n",
    "        return -1\n",
    "    \n",
    "    filt_len = out_len - (in_len - 1)*stride\n",
    "    \n",
    "    return filt_len\n",
    "\n",
    "#get output length given three other parameters; returns -1 if input is an invalid combo\n",
    "def get_n(filt_len, in_len, stride):\n",
    "    if(not (isinstance(filt_len, int) and isinstance(in_len, int) and isinstance(stride, int))):\n",
    "        return -1\n",
    "    \n",
    "    out_len = (in_len - 1)*stride + filt_len\n",
    "    \n",
    "    return out_len"
   ]
  },
  {
   "cell_type": "markdown",
   "metadata": {},
   "source": [
    "# Define functions to generate the weight vector and Data matrix"
   ]
  },
  {
   "cell_type": "code",
   "execution_count": 378,
   "metadata": {
    "collapsed": true
   },
   "outputs": [],
   "source": [
    "#generate a weight vector made by concatenating nc vectors of length f vertically, initiliazed with N(0,1) weights\n",
    "def gen_weights(f, nc, cuda):\n",
    "    weights = torch.zeros((f*nc))\n",
    "    weights.data.normal_(0, 1)\n",
    "    \n",
    "    if(cuda):\n",
    "        weights = weights.cuda()\n",
    "    \n",
    "    return weights\n",
    "\n",
    "#generate a single strided block of latent input - contains k N(0,1) entries with (s-1) zeros between each entry\n",
    "def gen_z_block(k, s, cuda):\n",
    "    z = torch.zeros(k)\n",
    "    z.data.normal_(0, 1)\n",
    "    \n",
    "    if(cuda):\n",
    "        z = z.cuda()\n",
    "\n",
    "    z_strided = torch.zeros((k - 1)*s + 1)\n",
    "\n",
    "    if(cuda):\n",
    "        z_strided = z_strided.cuda()\n",
    "\n",
    "    inds = [i*s for i in range(k)]\n",
    "\n",
    "    z_strided[inds] = z\n",
    "    \n",
    "    return z_strided\n",
    "\n",
    "#generate a (n,f) latent input matrix for one channel - contains a strided z block shifted down one row in each column \n",
    "def gen_z_mat(n, f, k, s, cuda):\n",
    "    z_block = gen_z_block(k, s, cuda)\n",
    "    block_len = list(z_block.shape)[0]\n",
    "    \n",
    "    z_mat = torch.zeros((n, f))\n",
    "    \n",
    "    if(cuda):\n",
    "        z_mat = z_mat.cuda()\n",
    "    \n",
    "    for i in range(f):\n",
    "        z_mat[i:block_len + i, i] = z_block\n",
    "        \n",
    "    return z_mat\n",
    "\n",
    "#generate a Z matrix used as Data in linear regression, made by concatenating nc latent input matrices horizontally \n",
    "def gen_z_data(n, f, k, s, nc, cuda):\n",
    "    z_latent = torch.zeros((n, f*nc))\n",
    "    \n",
    "    if(cuda):\n",
    "        z_latent = z_latent.cuda()\n",
    "    \n",
    "    for i in range(nc):\n",
    "        z_latent[:, i*f:i*f+f] = gen_z_mat(n, f, k, s, cuda)\n",
    "    \n",
    "    return z_latent"
   ]
  },
  {
   "cell_type": "markdown",
   "metadata": {},
   "source": [
    "# Define gradient function"
   ]
  },
  {
   "cell_type": "code",
   "execution_count": 379,
   "metadata": {
    "collapsed": true
   },
   "outputs": [],
   "source": [
    "def get_gradient(y, Z, w):\n",
    "    return torch.matmul(Z.t(), y) - torch.matmul(torch.matmul(Z.t(), Z), w)"
   ]
  },
  {
   "cell_type": "markdown",
   "metadata": {},
   "source": [
    "# Define Gradient Descent"
   ]
  },
  {
   "cell_type": "code",
   "execution_count": 380,
   "metadata": {
    "collapsed": true
   },
   "outputs": [],
   "source": [
    "#given target signal y, data Z, weights w, stepsize, and number of iterations, perform gradient descent for linear regression on w \n",
    "#optionally can choose to log the MSE of each iterative solution\n",
    "def gradient_descent(y, Z, w, stepsize, num_iter, log = False):\n",
    "    w_t = w\n",
    "    \n",
    "    if(log):\n",
    "        mse = torch.nn.MSELoss().type(dtype)\n",
    "        mse_log = torch.zeros((num_iter))\n",
    "    \n",
    "    for i in range(num_iter):\n",
    "        w_t = w_t + stepsize*get_gradient(y, Z, w_t)\n",
    "        \n",
    "        if(log):\n",
    "            mse_log[i] = mse(y, torch.matmul(Z, w_t))\n",
    "    \n",
    "    if(log):\n",
    "        return (w_t, mse_log)\n",
    "    \n",
    "    return w_t"
   ]
  },
  {
   "cell_type": "markdown",
   "metadata": {},
   "source": [
    "# Define parameters and check the param generator functions"
   ]
  },
  {
   "cell_type": "code",
   "execution_count": 389,
   "metadata": {},
   "outputs": [
    {
     "name": "stdout",
     "output_type": "stream",
     "text": [
      "True\n",
      "True\n",
      "True\n",
      "True\n",
      "True\n",
      "40\n"
     ]
    }
   ],
   "source": [
    "#define output len, filter len, input len, and stride\n",
    "n = 64\n",
    "f = 8\n",
    "k = 8\n",
    "s = 8\n",
    "\n",
    "nc = 5\n",
    "\n",
    "#check if the params are valid - should return true\n",
    "print(check_params(n,f,k,s))\n",
    "\n",
    "print(get_n(f,k,s) == n)\n",
    "print(get_f(n,k,s) == f)\n",
    "print(get_k(n,f,s) == k)\n",
    "print(get_s(n,f,k) == s)\n",
    "\n",
    "print(\"total params: \" + str(f * nc)"
   ]
  },
  {
   "cell_type": "markdown",
   "metadata": {},
   "source": [
    "# Check the weight and data generator functions"
   ]
  },
  {
   "cell_type": "code",
   "execution_count": 382,
   "metadata": {},
   "outputs": [
    {
     "data": {
      "text/plain": [
       "'\\n#set the number of channels\\nnc = 3\\n\\n#generate the weights and data matrix (Z) to be used in linear regression\\nweights = gen_weights(f, nc, CUDA)\\nZ = gen_z_data(n, f, k, s, nc, CUDA)\\n\\nprint(weights)\\nprint(Z)\\n'"
      ]
     },
     "execution_count": 382,
     "metadata": {},
     "output_type": "execute_result"
    }
   ],
   "source": [
    "\"\"\"\n",
    "#set the number of channels\n",
    "nc = 3\n",
    "\n",
    "#generate the weights and data matrix (Z) to be used in linear regression\n",
    "weights = gen_weights(f, nc, CUDA)\n",
    "Z = gen_z_data(n, f, k, s, nc, CUDA)\n",
    "\n",
    "print(weights)\n",
    "print(Z)\n",
    "\"\"\""
   ]
  },
  {
   "cell_type": "markdown",
   "metadata": {},
   "source": [
    "# Create Target"
   ]
  },
  {
   "cell_type": "code",
   "execution_count": 383,
   "metadata": {},
   "outputs": [
    {
     "data": {
      "image/png": "[encoded data removed]",
      "text/plain": [
       "<Figure size 432x288 with 1 Axes>"
      ]
     },
     "metadata": {},
     "output_type": "display_data"
    }
   ],
   "source": [
    "X_OUTPUT = np.arange(n)\n",
    "\n",
    "y0 = np.sin(2 * np.pi *X_OUTPUT / n)\n",
    "y0_noisy = y0 + 0.25 * np.random.randn(n)\n",
    "#y0 = 0.25 * np.random.randn(n)\n",
    "y = torch.tensor(y0).type(dtype)\n",
    "y_noisy = torch.tensor(y0_noisy).type(dtype)\n",
    "\n",
    "if(CUDA):\n",
    "    y = y.cuda()\n",
    "    y_noisy = y_noisy.cuda()\n",
    "\n",
    "plt.figure()\n",
    "plt.plot(X_OUTPUT, y0, label='orig')\n",
    "plt.plot(X_OUTPUT, y0_noisy, label='noisy')\n",
    "plt.legend()\n",
    "plt.show()"
   ]
  },
  {
   "cell_type": "markdown",
   "metadata": {},
   "source": [
    "# Perform Linear Regression"
   ]
  },
  {
   "cell_type": "code",
   "execution_count": 384,
   "metadata": {
    "collapsed": true
   },
   "outputs": [],
   "source": [
    "stepsize = 1e-4\n",
    "NUM_ITER = 100\n",
    "\n",
    "#Generate weights and data for fittig denoised curve\n",
    "weights = gen_weights(f, nc, CUDA)\n",
    "Z = gen_z_data(n, f, k, s, nc, CUDA)\n",
    "\n",
    "weights, log = gradient_descent(y, Z, weights, stepsize, NUM_ITER, True)\n",
    "\n",
    "#generate weights and data for fitting noisy curve\n",
    "weights_noisy = gen_weights(f, nc, CUDA)\n",
    "Z_noisy = gen_z_data(n, f, k, s, nc, CUDA)\n",
    "\n",
    "weights_noisy, log_noisy = gradient_descent(y_noisy, Z_noisy, weights_noisy, stepsize, NUM_ITER, True)"
   ]
  },
  {
   "cell_type": "code",
   "execution_count": 385,
   "metadata": {},
   "outputs": [
    {
     "data": {
      "image/png": "[encoded data removed]",
      "text/plain": [
       "<Figure size 432x288 with 1 Axes>"
      ]
     },
     "metadata": {},
     "output_type": "display_data"
    }
   ],
   "source": [
    "plt.figure()\n",
    "plt.plot(range(NUM_ITER), log.cpu().numpy(), label='orig')\n",
    "plt.plot(range(NUM_ITER), log_noisy.cpu().numpy(), label='noisy')\n",
    "plt.legend()\n",
    "plt.show()"
   ]
  },
  {
   "cell_type": "code",
   "execution_count": 386,
   "metadata": {},
   "outputs": [
    {
     "name": "stdout",
     "output_type": "stream",
     "text": [
      "torch.Size([40, 2])\n",
      "torch.Size([40, 40])\n"
     ]
    }
   ],
   "source": [
    "X = torch.matmul(Z.t(), Z)\n",
    "\n",
    "evals, evecs = torch.eig(X, eigenvectors=True)\n",
    "\n",
    "#evals is (f*nc,2) with reals on first col and imaginary on second col (evecs[0] = evecs[0,0] + ievecs[0,1])\n",
    "#evecs is (f*nc,f*nc) with evecs in the columns \n",
    "print(evals.shape)\n",
    "print(evecs.shape)\n",
    "\n",
    "#print(evals)"
   ]
  },
  {
   "cell_type": "code",
   "execution_count": 387,
   "metadata": {},
   "outputs": [
    {
     "name": "stdout",
     "output_type": "stream",
     "text": [
      "Complex eigenvalues!\n"
     ]
    }
   ],
   "source": [
    "all_reals = torch.nonzero(evals[:,1]).squeeze()\n",
    "\n",
    "if (list(all_reals.shape)[0] != 0):\n",
    "    print(\"Complex eigenvalues!\")\n",
    "else:\n",
    "    print(\"NO complex eigenvalues!\")"
   ]
  },
  {
   "cell_type": "code",
   "execution_count": 388,
   "metadata": {},
   "outputs": [
    {
     "data": {
      "image/png": "[encoded data removed]",
      "text/plain": [
       "<Figure size 432x288 with 1 Axes>"
      ]
     },
     "metadata": {},
     "output_type": "display_data"
    }
   ],
   "source": [
    "plt.figure()\n",
    "\n",
    "for i in range (2):\n",
    "    plt.plot(range(f*nc), evecs.cpu().numpy()[:,i])#, marker = '*', linestyle='None')\n",
    "    #print(evecs[:,i])\n",
    "\n",
    "plt.show()"
   ]
  },
  {
   "cell_type": "code",
   "execution_count": null,
   "metadata": {
    "collapsed": true
   },
   "outputs": [],
   "source": []
  }
 ],
 "metadata": {
  "kernelspec": {
   "display_name": "Python 3",
   "language": "python",
   "name": "python3"
  },
  "language_info": {
   "codemirror_mode": {
    "name": "ipython",
    "version": 3
   },
   "file_extension": ".py",
   "mimetype": "text/x-python",
   "name": "python",
   "nbconvert_exporter": "python",
   "pygments_lexer": "ipython3",
   "version": "3.6.8"
  }
 },
 "nbformat": 4,
 "nbformat_minor": 2
}
