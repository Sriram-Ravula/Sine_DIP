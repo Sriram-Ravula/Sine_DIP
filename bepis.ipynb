{
 "cells": [
  {
   "cell_type": "code",
   "execution_count": 304,
   "metadata": {},
   "outputs": [
    {
     "name": "stdout",
     "output_type": "stream",
     "text": [
      "env: CUDA_VISIBLE_DEVICES=0\n"
     ]
    }
   ],
   "source": [
    "import matplotlib.pyplot as plt\n",
    "import numpy as np\n",
    "import random\n",
    "import scipy.fftpack as spfft\n",
    "\n",
    "%env CUDA_VISIBLE_DEVICES=0\n",
    "import torch\n",
    "\n",
    "from torch.autograd import Variable\n",
    "import torch.nn as nn\n",
    "import torch.nn.functional as F\n",
    "\n",
    "import numpy as np\n",
    "import matplotlib.pyplot as plt\n",
    "%matplotlib inline\n",
    "\n",
    "#import torch_dip_utils as utils\n",
    "import math\n",
    "\n",
    "import time\n",
    "\n",
    "import pywt.data"
   ]
  },
  {
   "cell_type": "code",
   "execution_count": 305,
   "metadata": {},
   "outputs": [],
   "source": [
    "LR = 1e-4 # learning rate\n",
    "MOM = 0.9 # momentum\n",
    "NUM_ITER = 100 # number iterations\n",
    "WD = 1e-4 # weight decay for l2-regularization\n",
    "\n",
    "INPUT_LEN = 2 # input len\n",
    "INPUT_CHANS = 2 #number of channels in our input \n",
    "\n",
    "OUTPUT_CHANS = 1 #num channels in the net output\n",
    "OUTPUT_LEN = 16\n",
    "\n",
    "X_OUTPUT = np.arange(OUTPUT_LEN) #set up an axis for plotting wave outputs\n",
    "\n",
    "NUM_MEASUREMENTS = OUTPUT_LEN\n",
    "\n",
    "ALPHA_TV = 1e-4"
   ]
  },
  {
   "cell_type": "code",
   "execution_count": 306,
   "metadata": {},
   "outputs": [
    {
     "name": "stdout",
     "output_type": "stream",
     "text": [
      "True\n",
      "<torch.cuda.device object at 0x000002631C95CEF0>\n"
     ]
    }
   ],
   "source": [
    "CUDA = torch.cuda.is_available()\n",
    "#CUDA = False\n",
    "print(CUDA)\n",
    "\n",
    "#save the correct datatype depending on CPU or GPU execution\n",
    "if CUDA : \n",
    "    dtype = torch.cuda.FloatTensor  \n",
    "    print(torch.cuda.device(0))\n",
    "else:\n",
    "    dtype = torch.FloatTensor\n",
    "    print(\"NO DEVICES\")"
   ]
  },
  {
   "cell_type": "code",
   "execution_count": 307,
   "metadata": {},
   "outputs": [],
   "source": [
    "#INPUT_LEN = 32\n",
    "#Latent size = output for input_chans = 4\n",
    "class DCGAN(nn.Module):\n",
    "    def __init__(self, input_chans=32, output_chans=1, num_measurements = 128, output_size = 128):\n",
    "        super(DCGAN, self).__init__()\n",
    "        self.nc = output_chans\n",
    "        self.output_size = output_size\n",
    "        self.CUDA = CUDA\n",
    "\n",
    "        #for default case (32 input_chans) - #params = output_len\n",
    "        #reduce input_chans to underparameterize, increase to overparameterize\n",
    "\n",
    "        self.conv1 = nn.ConvTranspose1d(input_chans, output_chans, 8, 8, 0, bias=False) \n",
    "        \n",
    "        self.fc = nn.Linear(output_size * output_chans, num_measurements, bias=False)\n",
    "\n",
    "    def forward(self, x):\n",
    "        x = self.conv1(x)\n",
    "\n",
    "        return x\n",
    "    \n",
    "    def measurements(self, x):\n",
    "        y = self.forward(x).view(1, -1)\n",
    "\n",
    "        meas = self.fc(y).view(-1, 1)\n",
    "\n",
    "        if self.CUDA:\n",
    "            return meas.cuda()\n",
    "        else:\n",
    "            return meas"
   ]
  },
  {
   "cell_type": "code",
   "execution_count": 308,
   "metadata": {},
   "outputs": [],
   "source": [
    "def TV_Loss(pred, y, alpha_TV):\n",
    "    TV = torch.sum(torch.abs(pred[:-1, :] - pred[1:, :]))\n",
    "    \n",
    "    mse = torch.nn.MSELoss(reduction=\"sum\").type(dtype)\n",
    "    MSE = mse(pred, y)\n",
    "    \n",
    "    return MSE + alpha_TV*TV"
   ]
  },
  {
   "cell_type": "code",
   "execution_count": 309,
   "metadata": {},
   "outputs": [],
   "source": [
    "y0 = np.zeros((OUTPUT_LEN, 1))\n",
    "y0_denoised = np.sin(2 * np.pi *2*X_OUTPUT / OUTPUT_LEN)\n",
    "y0[:,0] = np.sin(2 * np.pi *2*X_OUTPUT / OUTPUT_LEN)\n",
    "y0[:,0] += 0.25 * np.random.randn(OUTPUT_LEN)"
   ]
  },
  {
   "cell_type": "code",
   "execution_count": 310,
   "metadata": {},
   "outputs": [],
   "source": [
    "def get_stats(x):\n",
    "    #a = np.min(x)\n",
    "    #b = np.max(x)\n",
    "    #mu = (a+b)/2.0\n",
    "    #sigma = (b-a)/2.0\n",
    "    #return [mu, sigma]\n",
    "    mu = np.mean(x)\n",
    "    sigma = np.std(x)\n",
    "    return [mu, sigma]\n",
    "\n",
    "def normalise(x, mu, sigma):\n",
    "    return (x-mu)/sigma\n",
    "\n",
    "def renormalise(x, mu, sigma):\n",
    "    return x*sigma + mu"
   ]
  },
  {
   "cell_type": "code",
   "execution_count": 311,
   "metadata": {},
   "outputs": [
    {
     "data": {
      "image/png": "[encoded data removed]",
      "text/plain": [
       "<Figure size 432x288 with 1 Axes>"
      ]
     },
     "metadata": {},
     "output_type": "display_data"
    }
   ],
   "source": [
    "MU = get_stats(y0)[0]\n",
    "SIGMA = get_stats(y0)[1]\n",
    "\n",
    "y0 = normalise(y0, MU, SIGMA)\n",
    "\n",
    "MU = get_stats(y0_denoised)[0]\n",
    "SIGMA = get_stats(y0_denoised)[1]\n",
    "\n",
    "y0_denoised = normalise(y0_denoised, MU, SIGMA)\n",
    "#y0 = y0 - np.amin(y0)\n",
    "plt.figure()\n",
    "plt.plot(X_OUTPUT, y0, color='r')\n",
    "plt.plot(X_OUTPUT, y0_denoised, color='b')\n",
    "plt.xlabel(\"Sample\")\n",
    "plt.title(\"Noisy Waveform\")\n",
    "plt.show()"
   ]
  },
  {
   "cell_type": "code",
   "execution_count": 312,
   "metadata": {},
   "outputs": [
    {
     "name": "stdout",
     "output_type": "stream",
     "text": [
      "(16, 16)\n",
      "(16, 1)\n"
     ]
    }
   ],
   "source": [
    "kept_samples = random.sample(range(0, OUTPUT_LEN), NUM_MEASUREMENTS)\n",
    "imputed_samples = [z for z in range(0, OUTPUT_LEN) if z not in kept_samples]\n",
    "\n",
    "A = np.eye(OUTPUT_LEN)[kept_samples, :]\n",
    "print(A.shape)\n",
    "\n",
    "y1 = np.dot(A, y0)\n",
    "y2 = np.dot(A, y0_denoised)\n",
    "print(y1.shape)"
   ]
  },
  {
   "cell_type": "code",
   "execution_count": 313,
   "metadata": {},
   "outputs": [],
   "source": [
    "y = torch.Tensor(y1)\n",
    "y = Variable(y.type(dtype))\n",
    "\n",
    "if CUDA:\n",
    "    y = y.cuda()\n",
    "    \n",
    "y_denoised = torch.Tensor(y2)\n",
    "y_denoised = Variable(y_denoised.type(dtype))\n",
    "\n",
    "if CUDA:\n",
    "    y = y.cuda()\n",
    "    y_denoised = y_denoised.cuda()"
   ]
  },
  {
   "cell_type": "code",
   "execution_count": 314,
   "metadata": {},
   "outputs": [
    {
     "name": "stdout",
     "output_type": "stream",
     "text": [
      "USING CUDA\n",
      "16\n"
     ]
    }
   ],
   "source": [
    "net = DCGAN(input_chans = INPUT_CHANS, output_chans = OUTPUT_CHANS, num_measurements=NUM_MEASUREMENTS, output_size = OUTPUT_LEN)\n",
    "net.fc.weight.data = torch.Tensor(A)\n",
    "net.fc.requires_grad = False\n",
    "\n",
    "allparams = [x for x in net.parameters()]\n",
    "allparams = allparams[:-1]\n",
    "\n",
    "z = Variable(torch.zeros(INPUT_LEN * INPUT_CHANS).type(dtype).view(1,INPUT_CHANS,INPUT_LEN))\n",
    "z.data.normal_().type(dtype)\n",
    "z.requires_grad = False\n",
    "\n",
    "if CUDA:\n",
    "    net.cuda()\n",
    "    print(\"USING CUDA\")\n",
    "else:\n",
    "    print(\"RUNNING ON CPU\")\n",
    "    \n",
    "params = sum([np.prod(p.size()) for p in allparams])\n",
    "print(params) "
   ]
  },
  {
   "cell_type": "code",
   "execution_count": 315,
   "metadata": {},
   "outputs": [],
   "source": [
    "optim = torch.optim.RMSprop(allparams,lr=LR,momentum=MOM, weight_decay=WD)\n",
    "\n",
    "mse = torch.nn.MSELoss().type(dtype)"
   ]
  },
  {
   "cell_type": "code",
   "execution_count": 316,
   "metadata": {},
   "outputs": [],
   "source": [
    "mse_log_true = np.zeros((NUM_ITER))\n",
    "mse_log_noisy = np.zeros((NUM_ITER))\n",
    "\n",
    "start = time.time()\n",
    "\n",
    "#num_vis = np.arange(math.log10(NUM_ITER))\n",
    "#vis = [(10**(e+1) - 1) for e in num_vis]\n",
    "vis = range(0, int(NUM_ITER/2), int(NUM_ITER/20))\n",
    "wave0 = torch.zeros(OUTPUT_LEN)\n",
    "\n",
    "for i in range(NUM_ITER):\n",
    "    optim.zero_grad()\n",
    "    out = net(z)\n",
    "\n",
    "    loss = mse(net.measurements(z), y) \n",
    "    #loss = TV_Loss(net.measurements(z), y, ALPHA_TV)\n",
    "    \n",
    "    \n",
    "    wave = out[0].detach().reshape(-1, OUTPUT_CHANS).cpu().numpy()\n",
    "    if i == NUM_ITER-1:\n",
    "        wave0 = out[0].detach().reshape(-1, OUTPUT_CHANS)\n",
    "\n",
    "    #mse_log_true[i] = np.mean((np.squeeze(y0_denoised)[kept_samples] - np.squeeze(wave)[kept_samples])**2)\n",
    "    mse_log_noisy[i] = np.mean((np.squeeze(y0)[kept_samples] - np.squeeze(wave)[kept_samples])**2)\n",
    "    \"\"\"\n",
    "    if i in vis:\n",
    "        print(i)\n",
    "        \n",
    "        plt.figure()\n",
    "        plt.plot(X_OUTPUT, y0)\n",
    "        plt.plot(X_OUTPUT, wave)\n",
    "        plt.xlabel(\"Sample\")\n",
    "        plt.ylabel(\"Value\")\n",
    "        plt.title(\"Final net Output\")\n",
    "        plt.show()\n",
    "        \n",
    "        #print(\"FINAL TEST MSE: \", mse_log_true[i])\n",
    "        print(\"TRAIN MSE: \", mse_log_noisy[i])\n",
    "    \"\"\" \n",
    "    \n",
    "    loss.backward()\n",
    "    optim.step()"
   ]
  },
  {
   "cell_type": "code",
   "execution_count": 317,
   "metadata": {},
   "outputs": [
    {
     "data": {
      "image/png": "[encoded data removed]",
      "text/plain": [
       "<Figure size 432x288 with 1 Axes>"
      ]
     },
     "metadata": {},
     "output_type": "display_data"
    }
   ],
   "source": [
    "plt.figure()\n",
    "#plt.plot(np.arange(NUM_ITER), mse_log_true, color='r', label='Test Loss')\n",
    "plt.plot(np.arange(NUM_ITER), mse_log_noisy, color='b', label='Train Loss')\n",
    "plt.legend()\n",
    "plt.xlabel(\"Iteration\")\n",
    "plt.ylabel(\"MSE\")\n",
    "#plt.xscale(\"log\")\n",
    "#plt.yscale(\"log\")\n",
    "#plt.ylim(0, 0.5)\n",
    "#plt.xlim(10, 40)\n",
    "plt.title('Linear Scale')\n",
    "plt.show()\n"
   ]
  },
  {
   "cell_type": "code",
   "execution_count": 318,
   "metadata": {},
   "outputs": [
    {
     "data": {
      "image/png": "[encoded data removed]",
      "text/plain": [
       "<Figure size 432x288 with 1 Axes>"
      ]
     },
     "metadata": {},
     "output_type": "display_data"
    }
   ],
   "source": [
    "plt.figure()\n",
    "#plt.plot(np.arange(NUM_ITER), mse_log_true, color='r', label='Test Loss')\n",
    "plt.plot(np.arange(NUM_ITER), mse_log_noisy, color='b', label='Train Loss')\n",
    "plt.legend()\n",
    "plt.xlabel(\"Iteration\")\n",
    "plt.ylabel(\"MSE (LOG)\")\n",
    "#plt.xscale(\"log\")\n",
    "plt.yscale(\"log\")\n",
    "#plt.ylim(0, 0.5)\n",
    "#plt.xlim(10, 40)\n",
    "plt.title('log scale')\n",
    "plt.show()"
   ]
  },
  {
   "cell_type": "code",
   "execution_count": 319,
   "metadata": {},
   "outputs": [
    {
     "name": "stdout",
     "output_type": "stream",
     "text": [
      "tensor([-0.1397,  0.0960,  0.1495, -0.3329, -0.2352,  0.3227, -0.0824,  0.0033],\n",
      "       device='cuda:0')\n",
      "tensor([ 0.1919, -0.1078, -0.4632, -0.3600, -0.0420, -0.0736,  0.0259, -0.1323],\n",
      "       device='cuda:0')\n"
     ]
    }
   ],
   "source": [
    "f1 = net.conv1.weight.data[0,0,:]#.cpu().numpy()\n",
    "f2 = net.conv1.weight.data[1,0,:]#.cpu().numpy()\n",
    "\n",
    "print (f1)\n",
    "print(f2)"
   ]
  },
  {
   "cell_type": "code",
   "execution_count": 320,
   "metadata": {},
   "outputs": [
    {
     "name": "stdout",
     "output_type": "stream",
     "text": [
      "tensor([-0.3105, -1.4003], device='cuda:0')\n",
      "tensor([-0.6676, -0.4264], device='cuda:0')\n"
     ]
    }
   ],
   "source": [
    "#z=view(1,INPUT_CHANS,INPUT_LEN))\n",
    "z1 = z[0,0,:]#.cpu().numpy()\n",
    "z2 = z[0,1,:]#.cpu().numpy()\n",
    "print(z1)\n",
    "print(z2)"
   ]
  },
  {
   "cell_type": "code",
   "execution_count": 321,
   "metadata": {},
   "outputs": [
    {
     "name": "stdout",
     "output_type": "stream",
     "text": [
      "torch.Size([16, 1])\n"
     ]
    }
   ],
   "source": [
    "\n",
    "print(wave0.shape)"
   ]
  },
  {
   "cell_type": "code",
   "execution_count": 322,
   "metadata": {},
   "outputs": [
    {
     "name": "stdout",
     "output_type": "stream",
     "text": [
      "tensor([[-0.1397,  0.0000],\n",
      "        [ 0.0960,  0.0000],\n",
      "        [ 0.1495,  0.0000],\n",
      "        [-0.3329,  0.0000],\n",
      "        [-0.2352,  0.0000],\n",
      "        [ 0.3227,  0.0000],\n",
      "        [-0.0824,  0.0000],\n",
      "        [ 0.0033,  0.0000],\n",
      "        [ 0.0000, -0.1397],\n",
      "        [ 0.0000,  0.0960],\n",
      "        [ 0.0000,  0.1495],\n",
      "        [ 0.0000, -0.3329],\n",
      "        [ 0.0000, -0.2352],\n",
      "        [ 0.0000,  0.3227],\n",
      "        [ 0.0000, -0.0824],\n",
      "        [ 0.0000,  0.0033]], device='cuda:0')\n",
      "tensor([[ 0.1919,  0.0000],\n",
      "        [-0.1078,  0.0000],\n",
      "        [-0.4632,  0.0000],\n",
      "        [-0.3600,  0.0000],\n",
      "        [-0.0420,  0.0000],\n",
      "        [-0.0736,  0.0000],\n",
      "        [ 0.0259,  0.0000],\n",
      "        [-0.1323,  0.0000],\n",
      "        [ 0.0000,  0.1919],\n",
      "        [ 0.0000, -0.1078],\n",
      "        [ 0.0000, -0.4632],\n",
      "        [ 0.0000, -0.3600],\n",
      "        [ 0.0000, -0.0420],\n",
      "        [ 0.0000, -0.0736],\n",
      "        [ 0.0000,  0.0259],\n",
      "        [ 0.0000, -0.1323]], device='cuda:0')\n"
     ]
    }
   ],
   "source": [
    "m1 = torch.zeros((OUTPUT_LEN, INPUT_LEN)).cuda()\n",
    "m2 = torch.zeros((OUTPUT_LEN, INPUT_LEN)).cuda()\n",
    "\n",
    "m1[0:8, 0] = f1\n",
    "m1[8:16, 1] = f1\n",
    "\n",
    "m2[0:8, 0] = f2\n",
    "m2[8:16, 1] = f2\n",
    "\n",
    "print(m1)\n",
    "print(m2)"
   ]
  },
  {
   "cell_type": "code",
   "execution_count": 323,
   "metadata": {},
   "outputs": [
    {
     "name": "stdout",
     "output_type": "stream",
     "text": [
      "tensor([-0.0847,  0.0422,  0.2629,  0.3437,  0.1011, -0.0511,  0.0083,  0.0873,\n",
      "         0.1138, -0.0884, -0.0118,  0.6197,  0.3473, -0.4205,  0.1044,  0.0517],\n",
      "       device='cuda:0')\n"
     ]
    },
    {
     "data": {
      "image/png": "[encoded data removed]",
      "text/plain": [
       "<Figure size 432x288 with 1 Axes>"
      ]
     },
     "metadata": {},
     "output_type": "display_data"
    }
   ],
   "source": [
    "o = torch.matmul(m1, z1)\n",
    "o += torch.matmul(m2, z2)\n",
    "\n",
    "print(o)\n",
    "plt.figure()\n",
    "plt.plot(X_OUTPUT, o.cpu().numpy())\n",
    "plt.plot(X_OUTPUT, wave0.cpu().numpy())\n",
    "plt.show()"
   ]
  },
  {
   "cell_type": "code",
   "execution_count": 324,
   "metadata": {},
   "outputs": [
    {
     "name": "stdout",
     "output_type": "stream",
     "text": [
      "tensor([-0.0006,  0.0011,  0.0012,  0.0012, -0.0004, -0.0011, -0.0012, -0.0012,\n",
      "         0.0007,  0.0021,  0.0022,  0.0021,  0.0001, -0.0020, -0.0022, -0.0022],\n",
      "       device='cuda:0')\n"
     ]
    }
   ],
   "source": [
    "print(o-wave0[:,0])"
   ]
  }
 ],
 "metadata": {
  "kernelspec": {
   "display_name": "Python 3",
   "language": "python",
   "name": "python3"
  },
  "language_info": {
   "codemirror_mode": {
    "name": "ipython",
    "version": 3
   },
   "file_extension": ".py",
   "mimetype": "text/x-python",
   "name": "python",
   "nbconvert_exporter": "python",
   "pygments_lexer": "ipython3",
   "version": "3.6.5"
  }
 },
 "nbformat": 4,
 "nbformat_minor": 2
}
