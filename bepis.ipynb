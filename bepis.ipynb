{
 "cells": [
  {
   "cell_type": "code",
   "execution_count": 3985,
   "metadata": {},
   "outputs": [
    {
     "name": "stdout",
     "output_type": "stream",
     "text": [
      "env: CUDA_VISIBLE_DEVICES=0\n"
     ]
    }
   ],
   "source": [
    "import matplotlib.pyplot as plt\n",
    "import numpy as np\n",
    "import random\n",
    "import scipy.fftpack as spfft\n",
    "\n",
    "%env CUDA_VISIBLE_DEVICES=0\n",
    "import torch\n",
    "\n",
    "from torch.autograd import Variable\n",
    "import torch.nn as nn\n",
    "import torch.nn.functional as F\n",
    "\n",
    "import numpy as np\n",
    "import matplotlib.pyplot as plt\n",
    "%matplotlib inline\n",
    "\n",
    "#import torch_dip_utils as utils\n",
    "import math\n",
    "\n",
    "import time\n",
    "\n",
    "import pywt.data"
   ]
  },
  {
   "cell_type": "code",
   "execution_count": 3986,
   "metadata": {},
   "outputs": [],
   "source": [
    "LR = 1e-4 # learning rate\n",
    "MOM = 0.9 # momentum\n",
    "NUM_ITER = 100 # number iterations\n",
    "WD = 1e-4 # weight decay for l2-regularization\n",
    "\n",
    "INPUT_LEN = 2 # input len\n",
    "INPUT_CHANS = 100 #number of channels in our input \n",
    "\n",
    "OUTPUT_CHANS = 1 #num channels in the net output\n",
    "OUTPUT_LEN = 64\n",
    "\n",
    "X_OUTPUT = np.arange(OUTPUT_LEN) #set up an axis for plotting wave outputs\n",
    "\n",
    "NUM_MEASUREMENTS = OUTPUT_LEN\n",
    "\n",
    "ALPHA_TV = 1e-4"
   ]
  },
  {
   "cell_type": "code",
   "execution_count": 3987,
   "metadata": {},
   "outputs": [
    {
     "name": "stdout",
     "output_type": "stream",
     "text": [
      "True\n",
      "<torch.cuda.device object at 0x000001F4A2543A20>\n"
     ]
    }
   ],
   "source": [
    "CUDA = torch.cuda.is_available()\n",
    "#CUDA = False\n",
    "print(CUDA)\n",
    "\n",
    "#save the correct datatype depending on CPU or GPU execution\n",
    "if CUDA : \n",
    "    dtype = torch.cuda.FloatTensor  \n",
    "    print(torch.cuda.device(0))\n",
    "else:\n",
    "    dtype = torch.FloatTensor\n",
    "    print(\"NO DEVICES\")"
   ]
  },
  {
   "cell_type": "code",
   "execution_count": 3988,
   "metadata": {},
   "outputs": [],
   "source": [
    "#INPUT_LEN = 32\n",
    "#Latent size = output for input_chans = 4\n",
    "class DCGAN(nn.Module):\n",
    "    def __init__(self, input_chans=32, output_chans=1, num_measurements = 128, output_size = 128):\n",
    "        super(DCGAN, self).__init__()\n",
    "        self.nc = output_chans\n",
    "        self.output_size = output_size\n",
    "        self.CUDA = CUDA\n",
    "\n",
    "        #for default case (32 input_chans) - #params = output_len\n",
    "        #reduce input_chans to underparameterize, increase to overparameterize\n",
    "\n",
    "        self.conv1 = nn.ConvTranspose1d(input_chans, output_chans, 32, 32, 0, bias=False) \n",
    "        \n",
    "        self.fc = nn.Linear(output_size * output_chans, num_measurements, bias=False)\n",
    "\n",
    "    def forward(self, x):\n",
    "        x = self.conv1(x)\n",
    "\n",
    "        return x\n",
    "    \n",
    "    def measurements(self, x):\n",
    "        y = self.forward(x).view(1, -1)\n",
    "\n",
    "        meas = self.fc(y).view(-1, 1)\n",
    "\n",
    "        if self.CUDA:\n",
    "            return meas.cuda()\n",
    "        else:\n",
    "            return meas"
   ]
  },
  {
   "cell_type": "code",
   "execution_count": 3989,
   "metadata": {},
   "outputs": [],
   "source": [
    "def TV_Loss(pred, y, alpha_TV):\n",
    "    TV = torch.sum(torch.abs(pred[:-1, :] - pred[1:, :]))\n",
    "    \n",
    "    mse = torch.nn.MSELoss(reduction=\"sum\").type(dtype)\n",
    "    MSE = mse(pred, y)\n",
    "    \n",
    "    return MSE + alpha_TV*TV"
   ]
  },
  {
   "cell_type": "code",
   "execution_count": 3990,
   "metadata": {},
   "outputs": [],
   "source": [
    "y0 = np.zeros((OUTPUT_LEN, 1))\n",
    "y0_denoised = np.sin(2 * np.pi *2*X_OUTPUT / OUTPUT_LEN)\n",
    "y0[:,0] = np.sin(2 * np.pi *2*X_OUTPUT / OUTPUT_LEN)\n",
    "y0[:,0] += 0.25 * np.random.randn(OUTPUT_LEN)"
   ]
  },
  {
   "cell_type": "code",
   "execution_count": 3991,
   "metadata": {},
   "outputs": [],
   "source": [
    "def get_stats(x):\n",
    "    #a = np.min(x)\n",
    "    #b = np.max(x)\n",
    "    #mu = (a+b)/2.0\n",
    "    #sigma = (b-a)/2.0\n",
    "    #return [mu, sigma]\n",
    "    mu = np.mean(x)\n",
    "    sigma = np.std(x)\n",
    "    return [mu, sigma]\n",
    "\n",
    "def normalise(x, mu, sigma):\n",
    "    return (x-mu)/sigma\n",
    "\n",
    "def renormalise(x, mu, sigma):\n",
    "    return x*sigma + mu"
   ]
  },
  {
   "cell_type": "code",
   "execution_count": 3992,
   "metadata": {},
   "outputs": [
    {
     "data": {
      "image/png": "[encoded data removed]",
      "text/plain": [
       "<Figure size 432x288 with 1 Axes>"
      ]
     },
     "metadata": {},
     "output_type": "display_data"
    }
   ],
   "source": [
    "MU = get_stats(y0)[0]\n",
    "SIGMA = get_stats(y0)[1]\n",
    "\n",
    "y0 = normalise(y0, MU, SIGMA)\n",
    "\n",
    "MU = get_stats(y0_denoised)[0]\n",
    "SIGMA = get_stats(y0_denoised)[1]\n",
    "\n",
    "y0_denoised = normalise(y0_denoised, MU, SIGMA)\n",
    "#y0 = y0 - np.amin(y0)\n",
    "plt.figure()\n",
    "plt.plot(X_OUTPUT, y0, color='r')\n",
    "plt.plot(X_OUTPUT, y0_denoised, color='b')\n",
    "plt.xlabel(\"Sample\")\n",
    "plt.title(\"Noisy Waveform\")\n",
    "plt.show()"
   ]
  },
  {
   "cell_type": "code",
   "execution_count": 3993,
   "metadata": {},
   "outputs": [
    {
     "name": "stdout",
     "output_type": "stream",
     "text": [
      "(64, 64)\n",
      "(64, 1)\n"
     ]
    }
   ],
   "source": [
    "kept_samples = random.sample(range(0, OUTPUT_LEN), NUM_MEASUREMENTS)\n",
    "imputed_samples = [z for z in range(0, OUTPUT_LEN) if z not in kept_samples]\n",
    "\n",
    "A = np.eye(OUTPUT_LEN)[kept_samples, :]\n",
    "print(A.shape)\n",
    "\n",
    "y1 = np.dot(A, y0)\n",
    "y2 = np.dot(A, y0_denoised)\n",
    "print(y1.shape)"
   ]
  },
  {
   "cell_type": "code",
   "execution_count": 3994,
   "metadata": {},
   "outputs": [],
   "source": [
    "y = torch.Tensor(y1)\n",
    "y = Variable(y.type(dtype))\n",
    "\n",
    "if CUDA:\n",
    "    y = y.cuda()\n",
    "    \n",
    "y_denoised = torch.Tensor(y2)\n",
    "y_denoised = Variable(y_denoised.type(dtype))\n",
    "\n",
    "if CUDA:\n",
    "    y = y.cuda()\n",
    "    y_denoised = y_denoised.cuda()"
   ]
  },
  {
   "cell_type": "code",
   "execution_count": 3995,
   "metadata": {},
   "outputs": [
    {
     "name": "stdout",
     "output_type": "stream",
     "text": [
      "USING CUDA\n",
      "3200\n"
     ]
    }
   ],
   "source": [
    "net = DCGAN(input_chans = INPUT_CHANS, output_chans = OUTPUT_CHANS, num_measurements=NUM_MEASUREMENTS, output_size = OUTPUT_LEN)\n",
    "net.fc.weight.data = torch.Tensor(A)\n",
    "net.fc.requires_grad = False\n",
    "\n",
    "allparams = [x for x in net.parameters()]\n",
    "allparams = allparams[:-1]\n",
    "\n",
    "z = Variable(torch.zeros(INPUT_LEN * INPUT_CHANS).type(dtype).view(1,INPUT_CHANS,INPUT_LEN))\n",
    "z.data.normal_().type(dtype)\n",
    "z.requires_grad = False\n",
    "\n",
    "if CUDA:\n",
    "    net.cuda()\n",
    "    print(\"USING CUDA\")\n",
    "else:\n",
    "    print(\"RUNNING ON CPU\")\n",
    "    \n",
    "params = sum([np.prod(p.size()) for p in allparams])\n",
    "print(params) "
   ]
  },
  {
   "cell_type": "code",
   "execution_count": 3996,
   "metadata": {},
   "outputs": [],
   "source": [
    "optim = torch.optim.RMSprop(allparams,lr=LR,momentum=MOM, weight_decay=WD)\n",
    "\n",
    "mse = torch.nn.MSELoss().type(dtype)"
   ]
  },
  {
   "cell_type": "code",
   "execution_count": 3997,
   "metadata": {},
   "outputs": [],
   "source": [
    "mse_log_true = np.zeros((NUM_ITER))\n",
    "mse_log_noisy = np.zeros((NUM_ITER))\n",
    "\n",
    "start = time.time()\n",
    "\n",
    "#num_vis = np.arange(math.log10(NUM_ITER))\n",
    "#vis = [(10**(e+1) - 1) for e in num_vis]\n",
    "vis = range(0, int(NUM_ITER/2), int(NUM_ITER/20))\n",
    "\n",
    "for i in range(NUM_ITER):\n",
    "    optim.zero_grad()\n",
    "    out = net(z)\n",
    "\n",
    "    loss = mse(net.measurements(z), y) \n",
    "    #loss = TV_Loss(net.measurements(z), y, ALPHA_TV)\n",
    "    \n",
    "    \n",
    "    wave = out[0].detach().reshape(-1, OUTPUT_CHANS).cpu().numpy()\n",
    "\n",
    "    #mse_log_true[i] = np.mean((np.squeeze(y0_denoised)[kept_samples] - np.squeeze(wave)[kept_samples])**2)\n",
    "    mse_log_noisy[i] = np.mean((np.squeeze(y0)[kept_samples] - np.squeeze(wave)[kept_samples])**2)\n",
    "    \"\"\"\n",
    "    if i in vis:\n",
    "        print(i)\n",
    "        \n",
    "        plt.figure()\n",
    "        plt.plot(X_OUTPUT, y0)\n",
    "        plt.plot(X_OUTPUT, wave)\n",
    "        plt.xlabel(\"Sample\")\n",
    "        plt.ylabel(\"Value\")\n",
    "        plt.title(\"Final net Output\")\n",
    "        plt.show()\n",
    "        \n",
    "        #print(\"FINAL TEST MSE: \", mse_log_true[i])\n",
    "        print(\"TRAIN MSE: \", mse_log_noisy[i])\n",
    "    \"\"\" \n",
    "    \n",
    "    loss.backward()\n",
    "    optim.step()"
   ]
  },
  {
   "cell_type": "code",
   "execution_count": 3998,
   "metadata": {},
   "outputs": [
    {
     "data": {
      "image/png": "[encoded data removed]",
      "text/plain": [
       "<Figure size 432x288 with 1 Axes>"
      ]
     },
     "metadata": {},
     "output_type": "display_data"
    }
   ],
   "source": [
    "plt.figure()\n",
    "#plt.plot(np.arange(NUM_ITER), mse_log_true, color='r', label='Test Loss')\n",
    "plt.plot(np.arange(NUM_ITER), mse_log_noisy, color='b', label='Train Loss')\n",
    "plt.legend()\n",
    "plt.xlabel(\"Iteration\")\n",
    "plt.ylabel(\"MSE\")\n",
    "#plt.xscale(\"log\")\n",
    "#plt.yscale(\"log\")\n",
    "plt.ylim(0, 0.5)\n",
    "#plt.xlim(10, 40)\n",
    "plt.title('Linear Scale')\n",
    "plt.show()\n"
   ]
  },
  {
   "cell_type": "code",
   "execution_count": 3999,
   "metadata": {},
   "outputs": [
    {
     "data": {
      "image/png": "[encoded data removed]",
      "text/plain": [
       "<Figure size 432x288 with 1 Axes>"
      ]
     },
     "metadata": {},
     "output_type": "display_data"
    }
   ],
   "source": [
    "plt.figure()\n",
    "#plt.plot(np.arange(NUM_ITER), mse_log_true, color='r', label='Test Loss')\n",
    "plt.plot(np.arange(NUM_ITER), mse_log_noisy, color='b', label='Train Loss')\n",
    "plt.legend()\n",
    "plt.xlabel(\"Iteration\")\n",
    "plt.ylabel(\"MSE (LOG)\")\n",
    "#plt.xscale(\"log\")\n",
    "plt.yscale(\"log\")\n",
    "#plt.ylim(0, 0.5)\n",
    "#plt.xlim(10, 40)\n",
    "plt.title('log scale')\n",
    "plt.show()"
   ]
  },
  {
   "cell_type": "code",
   "execution_count": null,
   "metadata": {},
   "outputs": [],
   "source": []
  }
 ],
 "metadata": {
  "kernelspec": {
   "display_name": "Python 3",
   "language": "python",
   "name": "python3"
  },
  "language_info": {
   "codemirror_mode": {
    "name": "ipython",
    "version": 3
   },
   "file_extension": ".py",
   "mimetype": "text/x-python",
   "name": "python",
   "nbconvert_exporter": "python",
   "pygments_lexer": "ipython3",
   "version": "3.6.5"
  }
 },
 "nbformat": 4,
 "nbformat_minor": 2
}
